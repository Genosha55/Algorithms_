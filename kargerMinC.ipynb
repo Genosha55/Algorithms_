{
 "cells": [
  {
   "cell_type": "code",
   "execution_count": 1,
   "metadata": {},
   "outputs": [],
   "source": [
    "import pandas as pd\n",
    "import numpy as np\n",
    "import random\n",
    "import copy"
   ]
  },
  {
   "cell_type": "code",
   "execution_count": 187,
   "metadata": {},
   "outputs": [],
   "source": [
    "with open('kargerMinCut.txt') as f:\n",
    "    #kargerMinCut\n",
    "    #a = [[int(x) for x in ln.split()] for ln in f]\n",
    "    data_set = []\n",
    "    for ln in f:\n",
    "        line = ln.split()\n",
    "        if line:\n",
    "            a = [int(x) for x in line]\n",
    "            data_set.append(a)"
   ]
  },
  {
   "cell_type": "code",
   "execution_count": 178,
   "metadata": {},
   "outputs": [
    {
     "name": "stdout",
     "output_type": "stream",
     "text": [
      "200\n"
     ]
    }
   ],
   "source": [
    "# print(data_set) # a list \n",
    "print(len(data_set))"
   ]
  },
  {
   "cell_type": "code",
   "execution_count": 98,
   "metadata": {},
   "outputs": [
    {
     "name": "stdout",
     "output_type": "stream",
     "text": [
      "(200,)\n"
     ]
    }
   ],
   "source": [
    "array_data = np.array(data_set)\n",
    "print(array_data.shape)"
   ]
  },
  {
   "cell_type": "code",
   "execution_count": 99,
   "metadata": {},
   "outputs": [
    {
     "name": "stdout",
     "output_type": "stream",
     "text": [
      "27\n"
     ]
    }
   ],
   "source": [
    "data_set[2]\n",
    "print(len(data_set[2]))"
   ]
  },
  {
   "cell_type": "code",
   "execution_count": 100,
   "metadata": {},
   "outputs": [
    {
     "data": {
      "text/plain": [
       "37"
      ]
     },
     "execution_count": 100,
     "metadata": {},
     "output_type": "execute_result"
    }
   ],
   "source": [
    "data_set[0][1]"
   ]
  },
  {
   "cell_type": "code",
   "execution_count": 101,
   "metadata": {},
   "outputs": [
    {
     "name": "stdout",
     "output_type": "stream",
     "text": [
      "<class 'list'>\n"
     ]
    }
   ],
   "source": [
    "print(type(data_set[2]))"
   ]
  },
  {
   "cell_type": "code",
   "execution_count": 102,
   "metadata": {},
   "outputs": [
    {
     "name": "stdout",
     "output_type": "stream",
     "text": [
      "[1, 37, 79, 164, 155, 32, 87, 39, 113, 15, 18, 78, 175, 140, 200, 4, 160, 97, 191, 100, 91, 20, 69, 198, 196]\n"
     ]
    }
   ],
   "source": [
    "copy = data_set.copy()\n",
    "\n",
    "len(copy)\n",
    "print(copy[0])"
   ]
  },
  {
   "cell_type": "code",
   "execution_count": 103,
   "metadata": {},
   "outputs": [
    {
     "name": "stdout",
     "output_type": "stream",
     "text": [
      "[2, 123, 134, 10, 141, 13, 12, 43, 47, 3, 177, 101, 179, 77, 182, 117, 116, 36, 103, 51, 154, 162, 128, 30]\n"
     ]
    }
   ],
   "source": [
    "copy.pop(0)\n",
    "print(copy[0])"
   ]
  },
  {
   "cell_type": "code",
   "execution_count": 104,
   "metadata": {},
   "outputs": [
    {
     "name": "stdout",
     "output_type": "stream",
     "text": [
      "[1, 37, 79, 164, 155, 32, 87, 39, 113, 15, 18, 78, 175, 140, 200, 4, 160, 97, 191, 100, 91, 20, 69, 198, 196]\n"
     ]
    }
   ],
   "source": [
    "print(data_set[0])"
   ]
  },
  {
   "cell_type": "code",
   "execution_count": 94,
   "metadata": {},
   "outputs": [
    {
     "name": "stdout",
     "output_type": "stream",
     "text": [
      "199\n"
     ]
    }
   ],
   "source": [
    "print(len(copy))"
   ]
  },
  {
   "cell_type": "code",
   "execution_count": 106,
   "metadata": {},
   "outputs": [
    {
     "data": {
      "text/plain": [
       "200"
      ]
     },
     "execution_count": 106,
     "metadata": {},
     "output_type": "execute_result"
    }
   ],
   "source": [
    "len(data_set)"
   ]
  },
  {
   "cell_type": "code",
   "execution_count": 85,
   "metadata": {},
   "outputs": [],
   "source": [
    "def iteration(n):\n",
    "    result = []\n",
    "    while n > 0:    \n",
    "        with open('kargerMinCut.txt') as f:\n",
    "            #kargerMinCut\n",
    "            #a = [[int(x) for x in ln.split()] for ln in f]\n",
    "            data_set = []\n",
    "            for ln in f:\n",
    "                line = ln.split()\n",
    "                if line:\n",
    "                    a = [int(x) for x in line]\n",
    "                    data_set.append(a)\n",
    "\n",
    "        # def reload_data():\n",
    "        #     with open('kargerMinCut.txt') as f:\n",
    "        #         #kargerMinCut\n",
    "        #         #a = [[int(x) for x in ln.split()] for ln in f]\n",
    "        #         data_set = []\n",
    "        #         for ln in f:\n",
    "        #             line = ln.split()\n",
    "        #             if line:\n",
    "        #                 a = [int(x) for x in line]\n",
    "        #                 data_set.append(a)\n",
    "\n",
    "        def random_index(n):\n",
    "            index = random.randint(1,n)\n",
    "            return index-1\n",
    "\n",
    "        def KargerMinC(A,rest_len):\n",
    "        #     reload_data()\n",
    "        #     A_copy = A.copy()\n",
    "            if rest_len==2:\n",
    "                for index in range(len(A)):\n",
    "                    if A[index]:\n",
    "                        return len(A[index])-1        \n",
    "            else:\n",
    "                keep_going = True\n",
    "                while keep_going:\n",
    "                    start_index = random_index(len(A))  # edge starter node index\n",
    "                    if data_set[start_index]:\n",
    "                        keep_going = False\n",
    "\n",
    "                real_start_index = int(A[start_index][0])\n",
    "\n",
    "                edge_num_len = len(A[start_index])-1\n",
    "                end_index_in_start = random_index(edge_num_len) # edge ends node index\n",
    "\n",
    "                copy_start_node = A[start_index].copy()\n",
    "                end_number = A[start_index][end_index_in_start]\n",
    "                end_index = end_number-1\n",
    "\n",
    "        #         A_copy = A.copy()        \n",
    "                A[end_index] = A[end_index] + copy_start_node         \n",
    "\n",
    "                connected = A[start_index][1:]\n",
    "                for element in connected:\n",
    "                    [end_number if x==real_start_index else x for x in A[element-1]]\n",
    "\n",
    "        #         for i in range(1,len(A[end_index])):\n",
    "        #             if A[end_index][i]==end_number:\n",
    "        #                 A[end_index].pop(i)\n",
    "\n",
    "                while end_number in A[end_index][1:]:\n",
    "                    A[end_index].remove(end_number)\n",
    "                A[start_index] = []\n",
    "                rest_len -= 1 \n",
    "\n",
    "                min_cut = KargerMinC(A,rest_len)\n",
    "                return min_cut\n",
    "\n",
    "        # # n = 1000\n",
    "        # # while n>0:\n",
    "        # #     b = data_set.copy()\n",
    "        # #     result = []\n",
    "        # #     result.append(KargerMinC(b,len(b)))\n",
    "        # #     data_set = []\n",
    "        # #     data_set.append(a)\n",
    "        # #     n-=1\n",
    "        # # b = data_set.copy()\n",
    "        result.append(KargerMinC(data_set,len(data_set)))   \n",
    "        n -= 1\n",
    "    print(min(result))"
   ]
  },
  {
   "cell_type": "code",
   "execution_count": 86,
   "metadata": {},
   "outputs": [
    {
     "name": "stdout",
     "output_type": "stream",
     "text": [
      "17\n",
      "CPU times: user 18 s, sys: 24 ms, total: 18.1 s\n",
      "Wall time: 18.1 s\n"
     ]
    }
   ],
   "source": [
    "%%time\n",
    "iteration(1000)"
   ]
  },
  {
   "cell_type": "code",
   "execution_count": null,
   "metadata": {},
   "outputs": [],
   "source": []
  },
  {
   "cell_type": "code",
   "execution_count": 10,
   "metadata": {},
   "outputs": [
    {
     "name": "stdout",
     "output_type": "stream",
     "text": [
      "0\n"
     ]
    }
   ],
   "source": [
    "a = random.randint(0,1)\n",
    "print(a)"
   ]
  },
  {
   "cell_type": "code",
   "execution_count": 120,
   "metadata": {},
   "outputs": [
    {
     "name": "stdout",
     "output_type": "stream",
     "text": [
      "[2, 3, 4, 5, 1, 2, 3, 4]\n"
     ]
    }
   ],
   "source": [
    "A = [[1,2,3,4],[2,3,4,5]]\n",
    "a = [1,2,3,4]\n",
    "b = [2,3,4,5]\n",
    "b = b+a\n",
    "A[1] = A[1] + a\n",
    "print(A[1])"
   ]
  },
  {
   "cell_type": "code",
   "execution_count": 72,
   "metadata": {},
   "outputs": [
    {
     "name": "stdout",
     "output_type": "stream",
     "text": [
      "[2, 3, 1, 2, 3, 4]\n"
     ]
    }
   ],
   "source": [
    "b.pop(2)\n",
    "print(b)"
   ]
  },
  {
   "cell_type": "code",
   "execution_count": 80,
   "metadata": {},
   "outputs": [
    {
     "name": "stdout",
     "output_type": "stream",
     "text": [
      "3\n"
     ]
    }
   ],
   "source": [
    "A = [[1,2,3,4],[2,3,4,5],[3,1,2,5]]\n",
    "print(len(A))"
   ]
  },
  {
   "cell_type": "code",
   "execution_count": 113,
   "metadata": {},
   "outputs": [
    {
     "data": {
      "text/plain": [
       "[8, 2, 3, 4, 8, 8, 2, 3]"
      ]
     },
     "execution_count": 113,
     "metadata": {},
     "output_type": "execute_result"
    }
   ],
   "source": [
    "a = [1,2,3,4,1,1,2,3]\n",
    "[8 if x==1 else x for x in a]"
   ]
  },
  {
   "cell_type": "code",
   "execution_count": 190,
   "metadata": {},
   "outputs": [
    {
     "name": "stdout",
     "output_type": "stream",
     "text": [
      "21\n"
     ]
    }
   ],
   "source": [
    "result = KargerMinC(data_set,len(data_set))\n",
    "print(result)"
   ]
  },
  {
   "cell_type": "code",
   "execution_count": 153,
   "metadata": {},
   "outputs": [],
   "source": [
    "# b = data_set[1][1:]\n",
    "# for element in b:\n",
    "#     print(data_set[element-1])"
   ]
  },
  {
   "cell_type": "code",
   "execution_count": null,
   "metadata": {},
   "outputs": [],
   "source": []
  },
  {
   "cell_type": "code",
   "execution_count": 141,
   "metadata": {},
   "outputs": [
    {
     "name": "stdout",
     "output_type": "stream",
     "text": [
      "fuk\n"
     ]
    }
   ],
   "source": [
    "a = [1,2]\n",
    "if a:\n",
    "    print('fuk')\n",
    "else:\n",
    "    print('dick')"
   ]
  },
  {
   "cell_type": "code",
   "execution_count": null,
   "metadata": {},
   "outputs": [],
   "source": [
    "for i in range(1,len(A[end_index])):\n",
    "            if A[end_index][i]==end_number:\n",
    "                A[end_index].pop(i)"
   ]
  },
  {
   "cell_type": "code",
   "execution_count": 166,
   "metadata": {},
   "outputs": [
    {
     "ename": "IndexError",
     "evalue": "list index out of range",
     "output_type": "error",
     "traceback": [
      "\u001b[0;31m---------------------------------------------------------------------------\u001b[0m",
      "\u001b[0;31mIndexError\u001b[0m                                Traceback (most recent call last)",
      "\u001b[0;32m<ipython-input-166-f35e427e8983>\u001b[0m in \u001b[0;36m<module>\u001b[0;34m\u001b[0m\n\u001b[1;32m      1\u001b[0m \u001b[0ma\u001b[0m \u001b[0;34m=\u001b[0m \u001b[0;34m[\u001b[0m\u001b[0;34m[\u001b[0m\u001b[0;36m1\u001b[0m\u001b[0;34m,\u001b[0m\u001b[0;36m2\u001b[0m\u001b[0;34m,\u001b[0m\u001b[0;36m3\u001b[0m\u001b[0;34m,\u001b[0m\u001b[0;36m4\u001b[0m\u001b[0;34m,\u001b[0m\u001b[0;36m1\u001b[0m\u001b[0;34m,\u001b[0m\u001b[0;36m2\u001b[0m\u001b[0;34m,\u001b[0m\u001b[0;36m54\u001b[0m\u001b[0;34m,\u001b[0m\u001b[0;36m2\u001b[0m\u001b[0;34m]\u001b[0m\u001b[0;34m,\u001b[0m\u001b[0;34m[\u001b[0m\u001b[0;36m2\u001b[0m\u001b[0;34m,\u001b[0m\u001b[0;36m3\u001b[0m\u001b[0;34m,\u001b[0m\u001b[0;36m4\u001b[0m\u001b[0;34m,\u001b[0m\u001b[0;36m5\u001b[0m\u001b[0;34m,\u001b[0m\u001b[0;36m2\u001b[0m\u001b[0;34m,\u001b[0m\u001b[0;36m3\u001b[0m\u001b[0;34m,\u001b[0m\u001b[0;36m56\u001b[0m\u001b[0;34m,\u001b[0m\u001b[0;36m3\u001b[0m\u001b[0;34m,\u001b[0m\u001b[0;36m2\u001b[0m\u001b[0;34m,\u001b[0m\u001b[0;36m2\u001b[0m\u001b[0;34m]\u001b[0m\u001b[0;34m]\u001b[0m\u001b[0;34m\u001b[0m\u001b[0;34m\u001b[0m\u001b[0m\n\u001b[1;32m      2\u001b[0m \u001b[0;32mfor\u001b[0m \u001b[0mi\u001b[0m \u001b[0;32min\u001b[0m \u001b[0mrange\u001b[0m\u001b[0;34m(\u001b[0m\u001b[0;36m1\u001b[0m\u001b[0;34m,\u001b[0m\u001b[0mlen\u001b[0m\u001b[0;34m(\u001b[0m\u001b[0ma\u001b[0m\u001b[0;34m[\u001b[0m\u001b[0;36m1\u001b[0m\u001b[0;34m]\u001b[0m\u001b[0;34m)\u001b[0m\u001b[0;34m-\u001b[0m\u001b[0;36m1\u001b[0m\u001b[0;34m)\u001b[0m\u001b[0;34m:\u001b[0m\u001b[0;34m\u001b[0m\u001b[0;34m\u001b[0m\u001b[0m\n\u001b[0;32m----> 3\u001b[0;31m     \u001b[0;32mif\u001b[0m \u001b[0ma\u001b[0m\u001b[0;34m[\u001b[0m\u001b[0;36m1\u001b[0m\u001b[0;34m]\u001b[0m\u001b[0;34m[\u001b[0m\u001b[0mi\u001b[0m\u001b[0;34m]\u001b[0m\u001b[0;34m==\u001b[0m\u001b[0;36m2\u001b[0m\u001b[0;34m:\u001b[0m\u001b[0;34m\u001b[0m\u001b[0;34m\u001b[0m\u001b[0m\n\u001b[0m\u001b[1;32m      4\u001b[0m         \u001b[0ma\u001b[0m\u001b[0;34m[\u001b[0m\u001b[0;36m1\u001b[0m\u001b[0;34m]\u001b[0m\u001b[0;34m.\u001b[0m\u001b[0mpop\u001b[0m\u001b[0;34m(\u001b[0m\u001b[0mi\u001b[0m\u001b[0;34m)\u001b[0m\u001b[0;34m\u001b[0m\u001b[0;34m\u001b[0m\u001b[0m\n\u001b[1;32m      5\u001b[0m \u001b[0mprint\u001b[0m\u001b[0;34m(\u001b[0m\u001b[0ma\u001b[0m\u001b[0;34m)\u001b[0m\u001b[0;34m\u001b[0m\u001b[0;34m\u001b[0m\u001b[0m\n",
      "\u001b[0;31mIndexError\u001b[0m: list index out of range"
     ]
    }
   ],
   "source": [
    "a = [[1,2,3,4,1,2,54,2],[2,3,4,5,2,3,56,3,2,2]]\n",
    "for n,i in a[1]:\n",
    "    if a[1][i]==2:\n",
    "        a[1].pop(i)\n",
    "print(a)\n",
    "\n",
    "\n",
    "\n",
    "    "
   ]
  },
  {
   "cell_type": "code",
   "execution_count": 169,
   "metadata": {},
   "outputs": [
    {
     "name": "stdout",
     "output_type": "stream",
     "text": [
      "[1, 3, 4, 5]\n"
     ]
    }
   ],
   "source": [
    "a = [1,2,3,4,5,2,2,2,2]\n",
    "   \n",
    "while 2 in a:\n",
    "    a.remove(2)\n",
    " \n",
    "print(a)"
   ]
  },
  {
   "cell_type": "code",
   "execution_count": null,
   "metadata": {},
   "outputs": [],
   "source": []
  },
  {
   "cell_type": "code",
   "execution_count": 83,
   "metadata": {},
   "outputs": [],
   "source": [
    "import random\n",
    "import copy\n",
    "\n",
    "with open('kargerMinCut.txt') as f:\n",
    "    #kargerMinCut\n",
    "    #a = [[int(x) for x in ln.split()] for ln in f]\n",
    "    data_set = []\n",
    "    for ln in f:\n",
    "        line = ln.split()\n",
    "        if line:\n",
    "            a = [int(x) for x in line]\n",
    "            data_set.append(a)\n",
    "\n",
    "def choose_random_edge(data):\n",
    "    a = random.randint(0,len(data)-1)\n",
    "    b = random.randint(1,len(data[a])-1)\n",
    "    return a,b\n",
    "\n",
    "def compute_nodes(data):\n",
    "    data_head = []\n",
    "    for i in range(len(data)):\n",
    "        data_head.append(data[i][0])\n",
    "    return data_head\n",
    "\n",
    "def find_index(data_head,data,u,v):\n",
    "    index = data_head.index(data[u][v])\n",
    "    return index\n",
    "\n",
    "def replace(data_head,data,index,u):\n",
    "    for i in data[index][1:]:\n",
    "        index_index = data_head.index(i)\n",
    "        for position,value in enumerate(data[index_index]):\n",
    "            if value == data[index][0]:\n",
    "                data[index_index][position] = data[u][0]\n",
    "    return data\n",
    "    \n",
    "def merge(data):\n",
    "    u,v = choose_random_edge(data)\n",
    "    #print u,v\n",
    "    data_head = compute_nodes(data)\n",
    "    index = find_index(data_head,data,u,v)\n",
    "    data[u].extend(data[index][1:])\n",
    "    #print data\n",
    "    data = replace(data_head,data,index,u)\n",
    "    #print data\n",
    "    data[u][1:] = [x for x in data[u][1:] if x!=data[u][0]]\n",
    "    #print data\n",
    "    data.remove(data[index])\n",
    "    #print data\n",
    "    return data\n",
    "\n",
    "def KargerMinCut(data):\n",
    "    \n",
    "    data = copy.deepcopy(data)\n",
    "    while len(data) >2:\n",
    "        data = merge(data)\n",
    "        #print data\n",
    "    num = len(data[0][1:])\n",
    "    return num\n",
    "\n",
    "#KargerMinCut(data_set)\n",
    "def calc_number(data,iteration):\n",
    "    list = []\n",
    "    for i in range(iteration):\n",
    "        list.append(KargerMinCut(data))\n",
    "    return min(list)"
   ]
  },
  {
   "cell_type": "code",
   "execution_count": 84,
   "metadata": {},
   "outputs": [
    {
     "name": "stdout",
     "output_type": "stream",
     "text": [
      "17\n",
      "CPU times: user 11min 14s, sys: 415 ms, total: 11min 15s\n",
      "Wall time: 11min 15s\n"
     ]
    }
   ],
   "source": [
    "%%time\n",
    "result = calc_number(data_set,1000)\n",
    "print(result)"
   ]
  },
  {
   "cell_type": "code",
   "execution_count": null,
   "metadata": {},
   "outputs": [],
   "source": []
  },
  {
   "cell_type": "code",
   "execution_count": null,
   "metadata": {},
   "outputs": [],
   "source": []
  },
  {
   "cell_type": "code",
   "execution_count": 16,
   "metadata": {},
   "outputs": [
    {
     "name": "stdout",
     "output_type": "stream",
     "text": [
      "[1, 2, []]\n",
      "[1, 2, 3]\n"
     ]
    }
   ],
   "source": [
    "a = [1,2,3]\n",
    "b = a.copy()\n",
    "b[2] = []\n",
    "print(b)\n",
    "print(a)"
   ]
  },
  {
   "cell_type": "code",
   "execution_count": null,
   "metadata": {},
   "outputs": [],
   "source": []
  }
 ],
 "metadata": {
  "kernelspec": {
   "display_name": "Python 3",
   "language": "python",
   "name": "python3"
  },
  "language_info": {
   "codemirror_mode": {
    "name": "ipython",
    "version": 3
   },
   "file_extension": ".py",
   "mimetype": "text/x-python",
   "name": "python",
   "nbconvert_exporter": "python",
   "pygments_lexer": "ipython3",
   "version": "3.7.4"
  }
 },
 "nbformat": 4,
 "nbformat_minor": 4
}
