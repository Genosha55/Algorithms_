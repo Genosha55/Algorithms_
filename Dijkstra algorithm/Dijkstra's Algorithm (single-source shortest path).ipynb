{
 "cells": [
  {
   "cell_type": "code",
   "execution_count": null,
   "metadata": {},
   "outputs": [],
   "source": [
    "## use a data structure (compute and care about the minimum)\n",
    "## heap: a perfectly balanced binary tree (extra function, ability to delete from the middle of heap, bubble up/down as needed)\n"
   ]
  },
  {
   "cell_type": "code",
   "execution_count": 182,
   "metadata": {},
   "outputs": [],
   "source": [
    "import heapq\n",
    "from ast import literal_eval"
   ]
  },
  {
   "cell_type": "code",
   "execution_count": null,
   "metadata": {},
   "outputs": [],
   "source": []
  },
  {
   "cell_type": "code",
   "execution_count": 183,
   "metadata": {},
   "outputs": [],
   "source": [
    "class Dijkstra:\n",
    "    def __init__(self, input_file):\n",
    "        self.graph = {}\n",
    "        with open(input_file) as file:\n",
    "            for line in file:\n",
    "                line_content = line.split()\n",
    "                self.graph[int(line_content[0])] = [literal_eval(edge) for edge in line_content[1:]]\n",
    "        self.visited = set()\n",
    "        self.shortest_path = {}\n",
    "\n",
    "                \n",
    "    def compute_shortest_path(self, source=None):\n",
    "        if source is None:\n",
    "            source = 1\n",
    "        for vertex in self.graph.keys():\n",
    "            self.shortest_path[vertex] = 1000000\n",
    "            \n",
    "        self.shortest_path[source] = 0\n",
    "        self.visited.add(source)\n",
    "        while not set(self.graph.keys())==self.visited:\n",
    "            self.find_next_node()\n",
    "            \n",
    "        return self.shortest_path    \n",
    "    \n",
    "    def find_next_node(self):\n",
    "        heap_neigh = []\n",
    "        for vertex in self.visited:\n",
    "            for node in self.graph[vertex]:\n",
    "                if node[0] not in self.visited:\n",
    "                    heap_neigh.append((node[1]+self.shortest_path[vertex], node[0]))\n",
    "    \n",
    "        heapq.heapify(heap_neigh)\n",
    "        self.shortest_path[heap_neigh[0][1]] = heap_neigh[0][0]\n",
    "        self.visited.add(heap_neigh[0][1])    \n",
    "        "
   ]
  },
  {
   "cell_type": "code",
   "execution_count": 184,
   "metadata": {},
   "outputs": [],
   "source": [
    "path_finder = Dijkstra('dijkstraData.txt')"
   ]
  },
  {
   "cell_type": "code",
   "execution_count": 185,
   "metadata": {},
   "outputs": [
    {
     "name": "stdout",
     "output_type": "stream",
     "text": [
      "the 7 th shortest_pat is: 2599\n",
      "the 37 th shortest_pat is: 2610\n",
      "the 59 th shortest_pat is: 2947\n",
      "the 82 th shortest_pat is: 2052\n",
      "the 99 th shortest_pat is: 2367\n",
      "the 115 th shortest_pat is: 2399\n",
      "the 133 th shortest_pat is: 2029\n",
      "the 165 th shortest_pat is: 2442\n",
      "the 188 th shortest_pat is: 2505\n",
      "the 197 th shortest_pat is: 3068\n",
      "CPU times: user 94.3 ms, sys: 0 ns, total: 94.3 ms\n",
      "Wall time: 92.3 ms\n"
     ]
    }
   ],
   "source": [
    "%%time\n",
    "shortest_path = path_finder.compute_shortest_path()\n",
    "# print(shortest_path)\n",
    "answer_list = [7,37,59,82,99,115,133,165,188,197]\n",
    "for item in answer_list:\n",
    "    print('the %d th shortest_pat is: %d' % (item, shortest_path[item]))"
   ]
  },
  {
   "cell_type": "code",
   "execution_count": null,
   "metadata": {},
   "outputs": [],
   "source": []
  },
  {
   "cell_type": "code",
   "execution_count": null,
   "metadata": {},
   "outputs": [],
   "source": []
  },
  {
   "cell_type": "code",
   "execution_count": null,
   "metadata": {},
   "outputs": [],
   "source": []
  },
  {
   "cell_type": "code",
   "execution_count": null,
   "metadata": {},
   "outputs": [],
   "source": []
  },
  {
   "cell_type": "code",
   "execution_count": null,
   "metadata": {},
   "outputs": [],
   "source": []
  },
  {
   "cell_type": "code",
   "execution_count": null,
   "metadata": {},
   "outputs": [],
   "source": []
  },
  {
   "cell_type": "code",
   "execution_count": null,
   "metadata": {},
   "outputs": [],
   "source": []
  },
  {
   "cell_type": "code",
   "execution_count": null,
   "metadata": {},
   "outputs": [],
   "source": []
  },
  {
   "cell_type": "code",
   "execution_count": null,
   "metadata": {},
   "outputs": [],
   "source": []
  },
  {
   "cell_type": "code",
   "execution_count": null,
   "metadata": {},
   "outputs": [],
   "source": []
  },
  {
   "cell_type": "code",
   "execution_count": null,
   "metadata": {},
   "outputs": [],
   "source": []
  },
  {
   "cell_type": "code",
   "execution_count": null,
   "metadata": {},
   "outputs": [],
   "source": []
  },
  {
   "cell_type": "code",
   "execution_count": null,
   "metadata": {},
   "outputs": [],
   "source": []
  },
  {
   "cell_type": "code",
   "execution_count": null,
   "metadata": {},
   "outputs": [],
   "source": []
  },
  {
   "cell_type": "code",
   "execution_count": null,
   "metadata": {},
   "outputs": [],
   "source": []
  },
  {
   "cell_type": "code",
   "execution_count": null,
   "metadata": {},
   "outputs": [],
   "source": []
  },
  {
   "cell_type": "code",
   "execution_count": null,
   "metadata": {},
   "outputs": [],
   "source": []
  },
  {
   "cell_type": "code",
   "execution_count": 162,
   "metadata": {},
   "outputs": [
    {
     "name": "stdout",
     "output_type": "stream",
     "text": [
      "{1, 2}\n",
      "True\n"
     ]
    }
   ],
   "source": [
    "a = {1:1,2:2}\n",
    "a.keys()\n",
    "b = set()\n",
    "b.add(1)\n",
    "b.add(2)\n",
    "\n",
    "print(b)\n",
    "print(set(a.keys())==b)\n",
    "while set(a.keys()-b ):\n",
    "    print('hello')"
   ]
  },
  {
   "cell_type": "code",
   "execution_count": null,
   "metadata": {},
   "outputs": [],
   "source": []
  }
 ],
 "metadata": {
  "kernelspec": {
   "display_name": "Python 3",
   "language": "python",
   "name": "python3"
  },
  "language_info": {
   "codemirror_mode": {
    "name": "ipython",
    "version": 3
   },
   "file_extension": ".py",
   "mimetype": "text/x-python",
   "name": "python",
   "nbconvert_exporter": "python",
   "pygments_lexer": "ipython3",
   "version": "3.7.6"
  }
 },
 "nbformat": 4,
 "nbformat_minor": 4
}
