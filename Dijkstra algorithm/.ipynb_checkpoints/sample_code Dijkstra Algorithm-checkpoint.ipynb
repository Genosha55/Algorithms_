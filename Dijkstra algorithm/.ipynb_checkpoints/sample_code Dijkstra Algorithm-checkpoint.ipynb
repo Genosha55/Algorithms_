{
 "cells": [
  {
   "cell_type": "code",
   "execution_count": 7,
   "metadata": {},
   "outputs": [
    {
     "name": "stdout",
     "output_type": "stream",
     "text": [
      "2599\n",
      "2610\n",
      "2947\n",
      "2052\n",
      "2367\n",
      "2399\n",
      "2029\n",
      "2442\n",
      "2505\n",
      "3068\n",
      "CPU times: user 80 ms, sys: 0 ns, total: 80 ms\n",
      "Wall time: 79.4 ms\n"
     ]
    },
    {
     "data": {
      "text/plain": [
       "'Output 2599\\n2610\\n2947\\n2052\\n2367\\n2399\\n2029\\n2442\\n2505\\n3068\\n'"
      ]
     },
     "execution_count": 7,
     "metadata": {},
     "output_type": "execute_result"
    }
   ],
   "source": [
    "%%time\n",
    "from ast import literal_eval\n",
    "\n",
    "\n",
    "class DijkstraPathFinder:\n",
    "\n",
    "    def __init__(self, input_file):\n",
    "        self.graph = {}\n",
    "        with open(input_file) as file:\n",
    "            for line in file:\n",
    "                line_content = line.split()\n",
    "                self.graph[int(line_content[0])] = [literal_eval(edge) for edge in line_content[1:]]\n",
    "        self._source_vertex = next(iter(self.graph.keys()))\n",
    "\n",
    "    def compute_shortest_paths(self, source=None):\n",
    "        if source is None:\n",
    "            source = self._source_vertex\n",
    "        shortest_paths = {}\n",
    "        visited = set()\n",
    "        for vertex in self.graph.keys():\n",
    "            shortest_paths[vertex] = (9999999999, [])\n",
    "        shortest_paths[source] = (0, [])\n",
    "        visited.add(source)\n",
    "        while set(self.graph.keys() - visited):\n",
    "            source, min_edge = -1, ()\n",
    "            for vertex in visited:\n",
    "                for edge in self.graph[vertex]:\n",
    "                    if edge[0] in visited:\n",
    "                        continue\n",
    "                    if not min_edge or shortest_paths[vertex][0] + edge[1] < min_edge[1]:\n",
    "                        min_edge = (edge[0], shortest_paths[vertex][0] + edge[1])\n",
    "                        source = vertex\n",
    "            shortest_paths[min_edge[0]] = (min_edge[1], shortest_paths[source][1] + [min_edge[0]])\n",
    "            visited.add(min_edge[0])\n",
    "        return shortest_paths\n",
    "\n",
    "if __name__ == '__main__':\n",
    "    path_finder = DijkstraPathFinder('dijkstraData.txt')\n",
    "    paths = path_finder.compute_shortest_paths()\n",
    "    actual = {vertex: distance[0] for (vertex, distance) in paths.items()}\n",
    "    print(actual[7])\n",
    "    print(actual[37])\n",
    "    print(actual[59])\n",
    "    print(actual[82])\n",
    "    print(actual[99])\n",
    "    print(actual[115])\n",
    "    print(actual[133])\n",
    "    print(actual[165])\n",
    "    print(actual[188])\n",
    "    print(actual[197])\n",
    "\n",
    "'''Output 2599\n",
    "2610\n",
    "2947\n",
    "2052\n",
    "2367\n",
    "2399\n",
    "2029\n",
    "2442\n",
    "2505\n",
    "3068\n",
    "'''"
   ]
  },
  {
   "cell_type": "code",
   "execution_count": null,
   "metadata": {},
   "outputs": [],
   "source": []
  }
 ],
 "metadata": {
  "kernelspec": {
   "display_name": "Python 3",
   "language": "python",
   "name": "python3"
  },
  "language_info": {
   "codemirror_mode": {
    "name": "ipython",
    "version": 3
   },
   "file_extension": ".py",
   "mimetype": "text/x-python",
   "name": "python",
   "nbconvert_exporter": "python",
   "pygments_lexer": "ipython3",
   "version": "3.7.6"
  }
 },
 "nbformat": 4,
 "nbformat_minor": 4
}
