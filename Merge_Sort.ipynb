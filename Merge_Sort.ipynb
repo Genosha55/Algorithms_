{
 "cells": [
  {
   "cell_type": "code",
   "execution_count": 1,
   "metadata": {},
   "outputs": [],
   "source": [
    "def combine_sorted(a,b):\n",
    "    result = []\n",
    "    i = j = 0\n",
    "    while i < len(a) and j < len(b):\n",
    "        if a[i]<b[j]:\n",
    "            result.append(a[i])\n",
    "            i+=1\n",
    "        else:\n",
    "            result.append(b[j])\n",
    "            j+=1\n",
    "    if i==len(a):\n",
    "        result.extend(b[j:])\n",
    "    else: \n",
    "        result.extend(a[i:])\n",
    "    return result\n",
    "\n",
    "def merge_sort(input_list):\n",
    "    if len(input_list) <= 1:\n",
    "        return input_list\n",
    "    middle = len(input_list)//2\n",
    "    left, right = merge_sort(input_list[:middle]), merge_sort(input_list[middle:])    \n",
    "    return combine_sorted(left,right)\n",
    "        \n",
    "  \n",
    "# same path recursion, as it is a same number of devide and recombine for the process of break into L/R and combine L/R\n",
    "# also in combine, transverse the pointer together for the two sorted arrays "
   ]
  },
  {
   "cell_type": "code",
   "execution_count": 2,
   "metadata": {},
   "outputs": [
    {
     "data": {
      "text/plain": [
       "[1, 2, 3, 4, 5, 6]"
      ]
     },
     "execution_count": 2,
     "metadata": {},
     "output_type": "execute_result"
    }
   ],
   "source": [
    "a = [1,2,3]\n",
    "b = [4,5,6]\n",
    "combine_sorted(a,b)"
   ]
  },
  {
   "cell_type": "code",
   "execution_count": null,
   "metadata": {},
   "outputs": [],
   "source": []
  }
 ],
 "metadata": {
  "kernelspec": {
   "display_name": "Python 3",
   "language": "python",
   "name": "python3"
  },
  "language_info": {
   "codemirror_mode": {
    "name": "ipython",
    "version": 3
   },
   "file_extension": ".py",
   "mimetype": "text/x-python",
   "name": "python",
   "nbconvert_exporter": "python",
   "pygments_lexer": "ipython3",
   "version": "3.7.4"
  }
 },
 "nbformat": 4,
 "nbformat_minor": 4
}
