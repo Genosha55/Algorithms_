{
 "cells": [
  {
   "cell_type": "code",
   "execution_count": 68,
   "metadata": {},
   "outputs": [],
   "source": [
    "# data structure: a queue (FIFO) with method of \n",
    "    # \"push\" (add vertex to the end of queue)\n",
    "    # \"pop\" (remove first node of Q)\n",
    "    # \"is_empty\" (check if the Q is empty)\n",
    "    # \"view\" (take a look at current Q)\n",
    "# add a flag indicator into the graph G for each vertex, indicating explored/ unexplored\\\n",
    "# use a list to collect element within in one cluster of the running search\n"
   ]
  },
  {
   "cell_type": "code",
   "execution_count": 69,
   "metadata": {},
   "outputs": [],
   "source": [
    "import copy"
   ]
  },
  {
   "cell_type": "code",
   "execution_count": 70,
   "metadata": {},
   "outputs": [],
   "source": [
    "def load_graph(file_name):\n",
    "    with open(file_name) as f:\n",
    "        #kargerMinCut\n",
    "        #a = [[int(x) for x in ln.split()] for ln in f]\n",
    "        data_set = []\n",
    "        for ln in f:\n",
    "            line = ln.split()\n",
    "            if line:\n",
    "                a = [int(x) for x in line]\n",
    "                data_set.append(a)\n",
    "    return data_set"
   ]
  },
  {
   "cell_type": "code",
   "execution_count": 71,
   "metadata": {},
   "outputs": [],
   "source": [
    "def make_a_copy(graph):\n",
    "    return graph.copy()"
   ]
  },
  {
   "cell_type": "code",
   "execution_count": 72,
   "metadata": {},
   "outputs": [],
   "source": [
    "def add_init_flag(graph):\n",
    "    copy_graph = graph.copy()\n",
    "    flag = False\n",
    "    for x in range(0,len(graph)):\n",
    "        graph[x].append(flag)  # add an initial flag of false(as unexplored) AT THE END of each vertex\n",
    "    return copy_graph"
   ]
  },
  {
   "cell_type": "code",
   "execution_count": 73,
   "metadata": {},
   "outputs": [],
   "source": [
    "def check_flag(vertex):  # check flag of one vertex, if unexplored(false flag), then mark it as explored(flag==true)\n",
    "    if vertex[-1] == False:\n",
    "        vertex[-1] = True\n",
    "        return 1\n",
    "    else:\n",
    "        return 0\n",
    "    "
   ]
  },
  {
   "cell_type": "code",
   "execution_count": 74,
   "metadata": {},
   "outputs": [],
   "source": [
    "class Queue(list):\n",
    "    def __init__(self):\n",
    "        self = []\n",
    "        \n",
    "    def push_Q(self, item):     # add an element to the end of Q\n",
    "        return self.append(item)\n",
    "    \n",
    "    def pop_Q(self):    # remove the first element from Q\n",
    "        return self.pop(0)\n",
    "    \n",
    "    def view(self):\n",
    "        for x in range(len(self)):\n",
    "            print(self[x])\n",
    "            \n",
    "    def is_empty(self):\n",
    "        return len(self)==0\n",
    "    \n",
    "        "
   ]
  },
  {
   "cell_type": "code",
   "execution_count": 76,
   "metadata": {},
   "outputs": [],
   "source": [
    "def BFS_find_cluster_start_at_s(graph,s):  \n",
    "    queue_of_vertex = Queue()  # initiate an empty queue\n",
    "    result = []\n",
    "    \n",
    "    # mark s as explored\n",
    "    graph[s-1][-1] = True\n",
    "\n",
    "    # initialize Q with s\n",
    "    queue_of_vertex.push_Q(s)    \n",
    "    result.append(s)    \n",
    "\n",
    "    while not queue_of_vertex.is_empty():\n",
    "        m = queue_of_vertex[0]\n",
    "        node_m = graph[m-1]\n",
    "        queue_of_vertex.pop_Q()     \n",
    "       \n",
    "        for index in range(1,len(node_m)-1):\n",
    "            n = node_m[index]\n",
    "            if check_flag(graph[n-1]):\n",
    "                queue_of_vertex.push_Q(n)                \n",
    "                result.append(n)           \n",
    "\n",
    "    return result\n",
    "\n"
   ]
  },
  {
   "cell_type": "code",
   "execution_count": 77,
   "metadata": {},
   "outputs": [],
   "source": [
    "def find_cluster_BFS(graph):\n",
    "    cluster = []\n",
    "    graph_flag = add_init_flag(graph)\n",
    "    for i in range(len(graph_flag)):\n",
    "#         print(graph_flag[i][-1]) # for debug\n",
    "        if graph_flag[i][-1] == False:\n",
    "            s = i+1\n",
    "            cluster_s = BFS_find_cluster_start_at_s(graph_flag,s)\n",
    "            cluster.append(cluster_s)\n",
    "    return cluster"
   ]
  },
  {
   "cell_type": "code",
   "execution_count": null,
   "metadata": {},
   "outputs": [],
   "source": []
  },
  {
   "cell_type": "code",
   "execution_count": 80,
   "metadata": {},
   "outputs": [
    {
     "name": "stdout",
     "output_type": "stream",
     "text": [
      "[[1, 3, 5, 7, 9], [2, 4], [6, 8, 10]]\n",
      "3\n",
      "CPU times: user 1.46 ms, sys: 0 ns, total: 1.46 ms\n",
      "Wall time: 1.4 ms\n"
     ]
    }
   ],
   "source": [
    "%%time\n",
    "# trial and test code block here! \n",
    "\n",
    "\n",
    "file_name = 'find_cluster_test.txt'    ## for input the data file and make a test_copy of it\n",
    "graph = load_graph(file_name)\n",
    "# print(len(graph))\n",
    "test_graph = make_a_copy(graph)\n",
    "\n",
    "result = find_cluster_BFS(test_graph)\n",
    "print(result)\n",
    "print(len(result))"
   ]
  },
  {
   "cell_type": "code",
   "execution_count": null,
   "metadata": {},
   "outputs": [],
   "source": []
  },
  {
   "cell_type": "code",
   "execution_count": null,
   "metadata": {},
   "outputs": [],
   "source": []
  },
  {
   "cell_type": "code",
   "execution_count": null,
   "metadata": {},
   "outputs": [],
   "source": []
  },
  {
   "cell_type": "code",
   "execution_count": null,
   "metadata": {},
   "outputs": [],
   "source": []
  },
  {
   "cell_type": "code",
   "execution_count": null,
   "metadata": {},
   "outputs": [],
   "source": []
  },
  {
   "cell_type": "code",
   "execution_count": null,
   "metadata": {},
   "outputs": [],
   "source": []
  },
  {
   "cell_type": "code",
   "execution_count": null,
   "metadata": {},
   "outputs": [],
   "source": []
  },
  {
   "cell_type": "code",
   "execution_count": null,
   "metadata": {},
   "outputs": [],
   "source": []
  },
  {
   "cell_type": "code",
   "execution_count": null,
   "metadata": {},
   "outputs": [],
   "source": []
  },
  {
   "cell_type": "code",
   "execution_count": null,
   "metadata": {},
   "outputs": [],
   "source": []
  },
  {
   "cell_type": "code",
   "execution_count": null,
   "metadata": {},
   "outputs": [],
   "source": []
  },
  {
   "cell_type": "code",
   "execution_count": 2,
   "metadata": {},
   "outputs": [
    {
     "name": "stdout",
     "output_type": "stream",
     "text": [
      "[[1, 2, 3, 4]]\n",
      "[[1, 2, 3, 4], [1, 2, 3]]\n"
     ]
    }
   ],
   "source": [
    "a = [] # using a list in list to record clusters\n",
    "b = [1,2,3,4]\n",
    "c = [1,2,3]\n",
    "a.append(b)\n",
    "print(a)\n",
    "a.append(c)\n",
    "print(a)"
   ]
  },
  {
   "cell_type": "code",
   "execution_count": null,
   "metadata": {},
   "outputs": [],
   "source": []
  }
 ],
 "metadata": {
  "kernelspec": {
   "display_name": "Python 3",
   "language": "python",
   "name": "python3"
  },
  "language_info": {
   "codemirror_mode": {
    "name": "ipython",
    "version": 3
   },
   "file_extension": ".py",
   "mimetype": "text/x-python",
   "name": "python",
   "nbconvert_exporter": "python",
   "pygments_lexer": "ipython3",
   "version": "3.7.4"
  }
 },
 "nbformat": 4,
 "nbformat_minor": 4
}
