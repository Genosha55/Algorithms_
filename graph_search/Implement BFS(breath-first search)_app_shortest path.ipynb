{
 "cells": [
  {
   "cell_type": "code",
   "execution_count": 55,
   "metadata": {},
   "outputs": [],
   "source": [
    "# data structure: a queue (FIFO) with method of \n",
    "    # \"push\" (add vertex to the end of queue)\n",
    "    # \"pop\" (remove first node of Q)\n",
    "    # \"is_empty\" (check if the Q is empty)\n",
    "    # \"view\" (take a look at current Q)\n",
    "# add a flag indicator into the graph G for each vertex, indicating explored/ unexplored\n"
   ]
  },
  {
   "cell_type": "code",
   "execution_count": 56,
   "metadata": {},
   "outputs": [],
   "source": [
    "import copy"
   ]
  },
  {
   "cell_type": "code",
   "execution_count": 57,
   "metadata": {},
   "outputs": [],
   "source": [
    "def load_graph(file_name):\n",
    "    with open(file_name) as f:\n",
    "        #kargerMinCut\n",
    "        #a = [[int(x) for x in ln.split()] for ln in f]\n",
    "        data_set = []\n",
    "        for ln in f:\n",
    "            line = ln.split()\n",
    "            if line:\n",
    "                a = [int(x) for x in line]\n",
    "                data_set.append(a)\n",
    "    return data_set"
   ]
  },
  {
   "cell_type": "code",
   "execution_count": 58,
   "metadata": {},
   "outputs": [],
   "source": [
    "def make_a_copy(graph):\n",
    "    return graph.copy()"
   ]
  },
  {
   "cell_type": "code",
   "execution_count": 59,
   "metadata": {},
   "outputs": [],
   "source": [
    "def add_init_flag(graph):\n",
    "    copy_graph = graph.copy()\n",
    "    flag = False\n",
    "    for x in range(0,len(graph)):\n",
    "        graph[x].append(flag)  # add an initial flag of false(as unexplored) AT THE END of each vertex\n",
    "    return copy_graph"
   ]
  },
  {
   "cell_type": "code",
   "execution_count": 60,
   "metadata": {},
   "outputs": [],
   "source": [
    "def check_flag(vertex):  # check flag of one vertex, if unexplored(false flag), then mark it as explored(flag==true)\n",
    "    if vertex[-1] == False:\n",
    "        vertex[-1] == True\n",
    "        return 1\n",
    "    else:\n",
    "        return 0\n",
    "    "
   ]
  },
  {
   "cell_type": "code",
   "execution_count": 61,
   "metadata": {},
   "outputs": [],
   "source": [
    "class Queue(list):\n",
    "    def __init__(self):\n",
    "        self = []\n",
    "        \n",
    "    def push_Q(self, item):     # add an element to the end of Q\n",
    "        return self.append(item)\n",
    "    \n",
    "    def pop_Q(self):    # remove the first element from Q\n",
    "        return self.pop(0)\n",
    "    \n",
    "    def view(self):\n",
    "        for x in range(len(self)):\n",
    "            print(self[x])\n",
    "            \n",
    "    def is_empty(self):\n",
    "        return len(self)==0\n",
    "    \n",
    "        "
   ]
  },
  {
   "cell_type": "code",
   "execution_count": 62,
   "metadata": {},
   "outputs": [],
   "source": [
    "# def dist(v,s):                        this block is not used!\n",
    "#     if v==s:\n",
    "#         return 0\n",
    "#     else:\n",
    "#         return 10000000000"
   ]
  },
  {
   "cell_type": "code",
   "execution_count": 67,
   "metadata": {},
   "outputs": [],
   "source": [
    "def breath_first_search(graph,s,v):  # s and v are the index of that vertex of interest (s-1, v-1 for index in graph) \n",
    "    queue_of_vertex = Queue()  # initiate an empty queue\n",
    "    graph_flag = add_init_flag(graph)\n",
    "    shortest_dist = dist(v,s)\n",
    "    if s==v:\n",
    "        return shortest_dist\n",
    "    else:         \n",
    "        key_0 = str(s)\n",
    "        shortest_dict = {key_0:0} \n",
    "    \n",
    "        # mark s as explored\n",
    "        graph_flag[s-1][-1] = True\n",
    "\n",
    "        # initialize Q with s\n",
    "        queue_of_vertex.push_Q(s)\n",
    "\n",
    "        while not queue_of_vertex.is_empty():\n",
    "            m = queue_of_vertex[0]\n",
    "            node_m = graph_flag[m-1]\n",
    "            queue_of_vertex.pop_Q()\n",
    "            \n",
    "            key_m = str(m)\n",
    "#             print(\"value of m: \", m)   # for debugging\n",
    "            shortest_dist = shortest_dict[key_m]\n",
    "\n",
    "            for index in range(1,len(node_m)-1):\n",
    "                n = node_m[index]\n",
    "#                 print(\"value of added n: \", n)   # for debugging\n",
    "    \n",
    "                if n==v:\n",
    "                    shortest_dist += 1\n",
    "                    return shortest_dist\n",
    "                else:\n",
    "                    if check_flag(graph_flag[n-1]):   \n",
    "                        queue_of_vertex.push_Q(n)  \n",
    "                        shortest_dist = shortest_dict[key_m] + 1\n",
    "                        key_n = str(n)\n",
    "                        dic_update = {key_n:shortest_dist}\n",
    "                        shortest_dict.update(dic_update)\n",
    "              \n",
    "                    \n",
    "                    \n",
    "            \n",
    "    \n",
    "        \n",
    "    "
   ]
  },
  {
   "cell_type": "code",
   "execution_count": 69,
   "metadata": {},
   "outputs": [
    {
     "name": "stdout",
     "output_type": "stream",
     "text": [
      "10\n",
      "CPU times: user 17.8 ms, sys: 0 ns, total: 17.8 ms\n",
      "Wall time: 19.5 ms\n"
     ]
    }
   ],
   "source": [
    "%%time\n",
    "# trial and test code block here! \n",
    "\n",
    "\n",
    "file_name = 'kargerMinCut.txt'    ## for input the data file and make a test_copy of it\n",
    "graph = load_graph(file_name)\n",
    "# print(len(graph))\n",
    "test_graph = make_a_copy(graph)\n",
    "\n",
    "result = breath_first_search(test_graph,1,136)\n",
    "print(result)\n"
   ]
  },
  {
   "cell_type": "code",
   "execution_count": null,
   "metadata": {},
   "outputs": [],
   "source": []
  },
  {
   "cell_type": "code",
   "execution_count": null,
   "metadata": {},
   "outputs": [],
   "source": []
  },
  {
   "cell_type": "code",
   "execution_count": null,
   "metadata": {},
   "outputs": [],
   "source": []
  },
  {
   "cell_type": "code",
   "execution_count": null,
   "metadata": {},
   "outputs": [],
   "source": []
  },
  {
   "cell_type": "code",
   "execution_count": null,
   "metadata": {},
   "outputs": [],
   "source": []
  },
  {
   "cell_type": "code",
   "execution_count": null,
   "metadata": {},
   "outputs": [],
   "source": []
  },
  {
   "cell_type": "code",
   "execution_count": null,
   "metadata": {},
   "outputs": [],
   "source": []
  },
  {
   "cell_type": "code",
   "execution_count": null,
   "metadata": {},
   "outputs": [],
   "source": []
  },
  {
   "cell_type": "code",
   "execution_count": 206,
   "metadata": {},
   "outputs": [
    {
     "name": "stdout",
     "output_type": "stream",
     "text": [
      "f\n",
      "f\n",
      "f\n",
      "f\n"
     ]
    }
   ],
   "source": [
    "for i in range(1,5):\n",
    "    print('f')"
   ]
  },
  {
   "cell_type": "code",
   "execution_count": 179,
   "metadata": {},
   "outputs": [
    {
     "name": "stdout",
     "output_type": "stream",
     "text": [
      "<class 'str'>\n"
     ]
    }
   ],
   "source": [
    "a = str(2)\n",
    "print(type(a))"
   ]
  },
  {
   "cell_type": "code",
   "execution_count": 130,
   "metadata": {},
   "outputs": [],
   "source": [
    "que = Queue()"
   ]
  },
  {
   "cell_type": "code",
   "execution_count": 155,
   "metadata": {},
   "outputs": [
    {
     "name": "stdout",
     "output_type": "stream",
     "text": [
      "0\n"
     ]
    }
   ],
   "source": [
    "s = 2\n",
    "que.push_Q(s)\n",
    "m = que[0]\n",
    "dict = {s:0}\n",
    "que.pop()\n",
    "shortest = dict[m]\n",
    "print(shortest)"
   ]
  },
  {
   "cell_type": "code",
   "execution_count": 243,
   "metadata": {},
   "outputs": [
    {
     "name": "stdout",
     "output_type": "stream",
     "text": [
      "1\n",
      "{6: 1, 132: 2}\n"
     ]
    }
   ],
   "source": [
    "s = 6\n",
    "\n",
    "dict = {s:1}\n",
    "m = s\n",
    "\n",
    "\n",
    "print(dict[m])\n",
    "\n",
    "n = 132\n",
    "dic_add = {n:2}\n",
    "dict.update(dic_add)\n",
    "print(dict)"
   ]
  },
  {
   "cell_type": "code",
   "execution_count": null,
   "metadata": {},
   "outputs": [],
   "source": []
  },
  {
   "cell_type": "code",
   "execution_count": 25,
   "metadata": {},
   "outputs": [
    {
     "name": "stdout",
     "output_type": "stream",
     "text": [
      "4\n",
      "[3, 48, 123, 134, 109, 41, 17, 159, 49, 136, 16, 130, 141, 29, 176, 2, 190, 66, 153, 157, 70, 114, 65, 173, 104, 194, 54]\n"
     ]
    }
   ],
   "source": [
    "# test_graph[2] = 4\n",
    "# print(test_graph[2])\n",
    "# print(graph[2])"
   ]
  },
  {
   "cell_type": "code",
   "execution_count": 30,
   "metadata": {},
   "outputs": [
    {
     "name": "stdout",
     "output_type": "stream",
     "text": [
      "[1, 2, 3, 4, 5, False]\n",
      "False\n",
      "[1, 2, 3, 4, 5, True]\n"
     ]
    }
   ],
   "source": [
    "# a = [1,2,3,4,5]\n",
    "# flag = False\n",
    "# a.append(flag)\n",
    "# print(a)\n",
    "# print(a[-1])\n",
    "# a[-1] = True\n",
    "# print(a)"
   ]
  },
  {
   "cell_type": "code",
   "execution_count": 39,
   "metadata": {},
   "outputs": [
    {
     "name": "stdout",
     "output_type": "stream",
     "text": [
      "<class 'int'>\n"
     ]
    }
   ],
   "source": [
    "a = [1,2,3,4]\n",
    "print(type(a[2]))"
   ]
  },
  {
   "cell_type": "code",
   "execution_count": null,
   "metadata": {},
   "outputs": [],
   "source": []
  }
 ],
 "metadata": {
  "kernelspec": {
   "display_name": "Python 3",
   "language": "python",
   "name": "python3"
  },
  "language_info": {
   "codemirror_mode": {
    "name": "ipython",
    "version": 3
   },
   "file_extension": ".py",
   "mimetype": "text/x-python",
   "name": "python",
   "nbconvert_exporter": "python",
   "pygments_lexer": "ipython3",
   "version": "3.7.4"
  }
 },
 "nbformat": 4,
 "nbformat_minor": 4
}
