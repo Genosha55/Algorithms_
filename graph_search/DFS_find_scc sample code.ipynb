{
 "cells": [
  {
   "cell_type": "code",
   "execution_count": 1,
   "metadata": {},
   "outputs": [
    {
     "ename": "FileNotFoundError",
     "evalue": "[Errno 2] No such file or directory: 'assignment_4.txt'",
     "output_type": "error",
     "traceback": [
      "\u001b[0;31m---------------------------------------------------------------------------\u001b[0m",
      "\u001b[0;31mFileNotFoundError\u001b[0m                         Traceback (most recent call last)",
      "\u001b[0;32m<ipython-input-1-17359606dcdf>\u001b[0m in \u001b[0;36m<module>\u001b[0;34m\u001b[0m\n\u001b[1;32m     62\u001b[0m \u001b[0;34m\u001b[0m\u001b[0m\n\u001b[1;32m     63\u001b[0m \u001b[0;32mif\u001b[0m \u001b[0m__name__\u001b[0m \u001b[0;34m==\u001b[0m \u001b[0;34m\"__main__\"\u001b[0m\u001b[0;34m:\u001b[0m\u001b[0;34m\u001b[0m\u001b[0;34m\u001b[0m\u001b[0m\n\u001b[0;32m---> 64\u001b[0;31m     \u001b[0mscc_finder\u001b[0m \u001b[0;34m=\u001b[0m \u001b[0mSccFinder\u001b[0m\u001b[0;34m(\u001b[0m\u001b[0;34m\"assignment_4.txt\"\u001b[0m\u001b[0;34m)\u001b[0m\u001b[0;34m\u001b[0m\u001b[0;34m\u001b[0m\u001b[0m\n\u001b[0m\u001b[1;32m     65\u001b[0m     \u001b[0mscc_finder\u001b[0m\u001b[0;34m.\u001b[0m\u001b[0mcompute_finish_times\u001b[0m\u001b[0;34m(\u001b[0m\u001b[0;34m)\u001b[0m\u001b[0;34m\u001b[0m\u001b[0;34m\u001b[0m\u001b[0m\n\u001b[1;32m     66\u001b[0m     \u001b[0mscc_finder\u001b[0m\u001b[0;34m.\u001b[0m\u001b[0mcompute_sccs\u001b[0m\u001b[0;34m(\u001b[0m\u001b[0;34m)\u001b[0m\u001b[0;34m\u001b[0m\u001b[0;34m\u001b[0m\u001b[0m\n",
      "\u001b[0;32m<ipython-input-1-17359606dcdf>\u001b[0m in \u001b[0;36m__init__\u001b[0;34m(self, input_file)\u001b[0m\n\u001b[1;32m      2\u001b[0m     \u001b[0;32mdef\u001b[0m \u001b[0m__init__\u001b[0m\u001b[0;34m(\u001b[0m\u001b[0mself\u001b[0m\u001b[0;34m,\u001b[0m \u001b[0minput_file\u001b[0m\u001b[0;34m)\u001b[0m\u001b[0;34m:\u001b[0m\u001b[0;34m\u001b[0m\u001b[0;34m\u001b[0m\u001b[0m\n\u001b[1;32m      3\u001b[0m         \u001b[0mself\u001b[0m\u001b[0;34m.\u001b[0m\u001b[0mscc_list\u001b[0m \u001b[0;34m=\u001b[0m \u001b[0;34m[\u001b[0m\u001b[0;34m]\u001b[0m\u001b[0;34m\u001b[0m\u001b[0;34m\u001b[0m\u001b[0m\n\u001b[0;32m----> 4\u001b[0;31m         \u001b[0;32mwith\u001b[0m \u001b[0mopen\u001b[0m\u001b[0;34m(\u001b[0m\u001b[0minput_file\u001b[0m\u001b[0;34m)\u001b[0m \u001b[0;32mas\u001b[0m \u001b[0mfile\u001b[0m\u001b[0;34m:\u001b[0m\u001b[0;34m\u001b[0m\u001b[0;34m\u001b[0m\u001b[0m\n\u001b[0m\u001b[1;32m      5\u001b[0m             \u001b[0mself\u001b[0m\u001b[0;34m.\u001b[0m\u001b[0mfinish_order\u001b[0m \u001b[0;34m=\u001b[0m \u001b[0;34m[\u001b[0m\u001b[0;34m]\u001b[0m\u001b[0;34m\u001b[0m\u001b[0;34m\u001b[0m\u001b[0m\n\u001b[1;32m      6\u001b[0m             \u001b[0mself\u001b[0m\u001b[0;34m.\u001b[0m\u001b[0m_graph\u001b[0m \u001b[0;34m=\u001b[0m \u001b[0;34m{\u001b[0m\u001b[0;34m}\u001b[0m\u001b[0;34m\u001b[0m\u001b[0;34m\u001b[0m\u001b[0m\n",
      "\u001b[0;31mFileNotFoundError\u001b[0m: [Errno 2] No such file or directory: 'assignment_4.txt'"
     ]
    }
   ],
   "source": [
    "class SccFinder(object):\n",
    "    def __init__(self, input_file):\n",
    "        self.scc_list = []\n",
    "        with open(input_file) as file:\n",
    "            self.finish_order = []\n",
    "            self._graph = {}\n",
    "            for line in file:\n",
    "                (from_v, to_v) = tuple(number for number in line.split())\n",
    "                self._add_edge_to_graph(int(from_v), int(to_v))\n",
    "\n",
    "    def _add_edge_to_graph(self, from_v, to_v):\n",
    "        if from_v in self._graph:\n",
    "            self._graph[from_v].append(to_v)\n",
    "        else:\n",
    "            self._graph[from_v] = [to_v]\n",
    "        if to_v in self._graph:\n",
    "            self._graph[to_v].append(-from_v)\n",
    "        else:\n",
    "            self._graph[to_v] = [-from_v]\n",
    "\n",
    "    def compute_finish_times(self):\n",
    "        visited_nodes, finished_nodes = set(), set()\n",
    "        for vertex in self._graph.keys():\n",
    "            if vertex in visited_nodes:\n",
    "                continue\n",
    "            nodes_stack = [vertex]\n",
    "            while nodes_stack:\n",
    "                node = nodes_stack.pop()\n",
    "                if node not in visited_nodes:\n",
    "                    visited_nodes.add(node)\n",
    "                    nodes_stack.append(node)\n",
    "                    neighbors = (-edge for edge in self._graph[node] if edge < 0)\n",
    "                    for neighbor in neighbors:\n",
    "                        if neighbor not in visited_nodes:\n",
    "                            nodes_stack.append(neighbor)\n",
    "                else:\n",
    "                    if node not in finished_nodes:\n",
    "                        self.finish_order.append(node)\n",
    "                        finished_nodes.add(node)\n",
    "\n",
    "    def compute_sccs(self):\n",
    "        visited_nodes = set()\n",
    "        assert (len(self.finish_order) == len(self._graph))\n",
    "        for i in reversed(self.finish_order):\n",
    "            if i in visited_nodes:\n",
    "                continue\n",
    "            nodes_stack = [i]\n",
    "            size = 0\n",
    "            while nodes_stack:\n",
    "                node = nodes_stack.pop()\n",
    "                if node not in visited_nodes:\n",
    "                    size += 1\n",
    "                    visited_nodes.add(node)\n",
    "                    nodes_stack.append(node)\n",
    "                    neighbors = (edge for edge in self._graph[node] if edge > 0)\n",
    "                    for neighbor in neighbors:\n",
    "                        if neighbor not in visited_nodes:\n",
    "                            nodes_stack.append(neighbor)\n",
    "            self.scc_list.append(size)\n",
    "        self.scc_list.sort(reverse=True)\n",
    "        print(self.scc_list[:5])\n",
    "\n",
    "if __name__ == \"__main__\":\n",
    "#     scc_finder = SccFinder(\"assignment_4.txt\")\n",
    "#     scc_finder.compute_finish_times()\n",
    "#     scc_finder.compute_sccs()\n",
    "#     expected_sccs = [434821, 968, 459, 313, 211]\n",
    "#     print(scc_finder.scc_list[:5])\n",
    "\n",
    "#Output: [434821, 968, 459, 313, 211]"
   ]
  },
  {
   "cell_type": "code",
   "execution_count": 6,
   "metadata": {},
   "outputs": [
    {
     "name": "stdout",
     "output_type": "stream",
     "text": [
      "[153343, 76084, 35657, 19286, 15900]\n",
      "[153343, 76084, 35657, 19286, 15900]\n",
      "CPU times: user 5.2 s, sys: 91.9 ms, total: 5.29 s\n",
      "Wall time: 5.3 s\n"
     ]
    }
   ],
   "source": [
    "%%time\n",
    "scc_finder = SccFinder(\"67.txt\")\n",
    "scc_finder.compute_finish_times()\n",
    "scc_finder.compute_sccs()\n",
    "# expected_sccs = [434821, 968, 459, 313, 211]\n",
    "print(scc_finder.scc_list[:5])"
   ]
  },
  {
   "cell_type": "code",
   "execution_count": null,
   "metadata": {},
   "outputs": [],
   "source": []
  }
 ],
 "metadata": {
  "kernelspec": {
   "display_name": "Python 3",
   "language": "python",
   "name": "python3"
  },
  "language_info": {
   "codemirror_mode": {
    "name": "ipython",
    "version": 3
   },
   "file_extension": ".py",
   "mimetype": "text/x-python",
   "name": "python",
   "nbconvert_exporter": "python",
   "pygments_lexer": "ipython3",
   "version": "3.8.3"
  }
 },
 "nbformat": 4,
 "nbformat_minor": 4
}
