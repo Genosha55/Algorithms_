{
 "cells": [
  {
   "cell_type": "code",
   "execution_count": 1,
   "metadata": {},
   "outputs": [],
   "source": [
    "## first compressing the SCC data? then label it from 1 to len(data) as n distinct labels (corrosponding to distinct nodes)\n",
    "## no need to reverse the (transposed data) as long as u label it from n to 1 from the first node (not efficient as to manipulate the data to much)\n",
    "## graph: modified to have 3 extra position in each node [T/F(as explored or not,leader_s(group_index),f(i)=t(as time been explored))]\n",
    "## example node [2(start_of_edge), 5(end_of_edge), T/F, leader_s(int), t(list[0])]\n",
    "\n",
    "## if data is not connected numbers, fill in the gap!!!"
   ]
  },
  {
   "cell_type": "code",
   "execution_count": 2,
   "metadata": {},
   "outputs": [],
   "source": [
    "import copy"
   ]
  },
  {
   "cell_type": "code",
   "execution_count": 3,
   "metadata": {},
   "outputs": [],
   "source": [
    "def load_graph(file_name):\n",
    "    with open(file_name) as f:\n",
    "        data_set = []\n",
    "        for ln in f:\n",
    "            line = ln.split()\n",
    "            if line:\n",
    "                a = [int(x) for x in line]\n",
    "                data_set.append(a)\n",
    "    return data_set\n",
    "\n",
    "# file_name = 'directed graph_test.txt'    ## for input the data file and make a test_copy of it"
   ]
  },
  {
   "cell_type": "code",
   "execution_count": 4,
   "metadata": {},
   "outputs": [],
   "source": [
    "def list_of_zeros(n):  ## function used to initialize reverse_scc-1-n sorted\n",
    "    result = [[0,0]]*n\n",
    "    return result"
   ]
  },
  {
   "cell_type": "code",
   "execution_count": 5,
   "metadata": {},
   "outputs": [],
   "source": [
    "def reverse_scc_graph_sorted(graph):  ## function to reverse scc graph, 1-n sorted\n",
    "    rev_graph = list_of_zeros(len(graph))\n",
    "    for index in range(len(graph)):\n",
    "        node = graph[index]\n",
    "        rev_graph[index] = node[::-1]\n",
    "    rev_graph.sort()\n",
    "        \n",
    "    return rev_graph        "
   ]
  },
  {
   "cell_type": "code",
   "execution_count": 6,
   "metadata": {},
   "outputs": [],
   "source": [
    "def compress_graph(a):  ## compress data with distinct nodes\n",
    "    b = [[0,0]]\n",
    "    for index in range(len(a)):\n",
    "        if b[-1][0]==a[index][0]:\n",
    "            b[-1].append(a[index][1])\n",
    "        else:\n",
    "            b.append(a[index])\n",
    "    b.pop(0)\n",
    "    return b\n",
    "    "
   ]
  },
  {
   "cell_type": "code",
   "execution_count": 24,
   "metadata": {},
   "outputs": [],
   "source": [
    "def fill_blank(graph):\n",
    "    for index in range(graph[-1][0]):\n",
    "        if not graph[index][0] == index+1:\n",
    "            graph.insert(index,[index+1])\n",
    "    return graph"
   ]
  },
  {
   "cell_type": "code",
   "execution_count": 25,
   "metadata": {},
   "outputs": [],
   "source": [
    "def add_init_flag(graph,t_graph,checker):\n",
    "    flag = False    \n",
    "    for x in range(0,len(graph)):\n",
    "        graph[x].append(flag)  # add an initial flag of false(as unexplored) AT THE END of each vertex\n",
    "        graph[x].append(0)  # position for leader_s\n",
    "        graph[x].append(0)  # postiion for f(i) := t\n",
    "        if checker==1:\n",
    "            graph[x] = [len(graph)-x] + graph[x]  # added a label for 1-n distinct nodes\n",
    "        elif checker== 2:\n",
    "            graph[x] = [t_graph[x][-1]] + graph[x]  # added a label for 1-n distinct nodes with t\n",
    "   \n",
    "    return graph"
   ]
  },
  {
   "cell_type": "code",
   "execution_count": 26,
   "metadata": {},
   "outputs": [],
   "source": [
    "def check_flag(vertex):  # check flag of one vertex, if unexplored(false flag), then mark it as explored(flag==true) and return true\n",
    "    if vertex[-3] is False:  # flag position at -3       \n",
    "        return 1\n",
    "    else:\n",
    "        return 0    "
   ]
  },
  {
   "cell_type": "code",
   "execution_count": 27,
   "metadata": {},
   "outputs": [],
   "source": [
    "class Stack(list):\n",
    "    def __init__(self):\n",
    "        self = []\n",
    "    \n",
    "    def push_s(self, item):\n",
    "        self.append(item)\n",
    "    \n",
    "    def pop_s(self):\n",
    "        return self.pop()\n",
    "    \n",
    "    def is_empty(self):\n",
    "        return len(self)==0\n",
    "    \n",
    "    def peek(self):\n",
    "        if not self.is_empty():\n",
    "            return self[-1]\n",
    "    \n",
    "    def get_stack(self):\n",
    "        return self"
   ]
  },
  {
   "cell_type": "code",
   "execution_count": 11,
   "metadata": {},
   "outputs": [],
   "source": [
    "def prep(graph,t_graph,checker):  ## load in compressed scc graph data for labeling output\n",
    "    graph_copy = graph.copy()\n",
    "    \n",
    "    stack_of_vertex = Stack()  # initiate an empty stack\n",
    "    if checker==1:\n",
    "        graph_rev = reverse_scc_graph_sorted(graph_copy)\n",
    "    else:\n",
    "        graph_rev = graph_copy\n",
    "        \n",
    "    graph_compressed = compress_graph(graph_rev)\n",
    "    graph_fill = fill_blank(graph_compressed)       \n",
    "    graph_flag = add_init_flag(graph_fill,t_graph,checker)\n",
    "\n",
    "    \n",
    "    return graph_flag, stack_of_vertex "
   ]
  },
  {
   "cell_type": "code",
   "execution_count": 19,
   "metadata": {},
   "outputs": [],
   "source": [
    "def find_scc_1(graph):\n",
    "    ## graph as input is the original graph\n",
    "    original_graph = graph.copy()\n",
    "    graph_flag, stack_of_vertex_1 = prep(graph,[],1)\n",
    "    \n",
    "    ## first pass loop to determin t (magic order)\n",
    "    t = [0]  # number of nodes processed so far\n",
    "    print(graph_flag)\n",
    "\n",
    "    \n",
    "    for index in range(len(graph_flag)):\n",
    "        if check_flag(graph_flag[index]):\n",
    "            depth_first_search_first(graph_flag,index+1,stack_of_vertex_1,t)\n",
    "            \n",
    "    return graph_flag\n",
    "    \n",
    "#     ## second pass to get scc\n",
    "    \n",
    "#     leader_s = 0  # used in second pass to record label of scc\n",
    "#     leader_recorder = []\n",
    "# #     scc_lib = {}\n",
    "#     scc_list = []\n",
    "#     scc_size = 0\n",
    "    \n",
    "#     original_t_flag, stack_of_vertex_2 = prep(original_graph,graph_flag,2)\n",
    "#     original_flag = original_t_flag\n",
    "#     remove_zero = []\n",
    "    \n",
    "    \n",
    "#     for index in range(len(original_t_flag)):\n",
    "#         if original_t_flag[index][0] != 0:\n",
    "# #             print(\"there is a zero\", index)\n",
    "#             remove_zero.append(original_t_flag[index])\n",
    "    \n",
    "#     remove_zero.sort()   \n",
    "#     original_t_flag = remove_zero[::-1]      \n",
    "\n",
    "    \n",
    "#     for index in range(len(original_t_flag)):\n",
    "#         if check_flag(original_t_flag[index]):\n",
    "#             scc_size = 0\n",
    "#             leader_s = original_t_flag[index][0]\n",
    "# #             scc_lib[lead_s] = scc_size\n",
    "#             leader_recorder.append(leader_s)\n",
    "#             scc_size = depth_first_search_second(original_t_flag,index+1,stack_of_vertex_2,leader_s,original_flag,scc_size)\n",
    "        \n",
    "#             scc_list.append(scc_size)\n",
    "            \n",
    "    \n",
    "    \n",
    "        \n",
    "    \n",
    "#     return leader_recorder, scc_list"
   ]
  },
  {
   "cell_type": "code",
   "execution_count": 20,
   "metadata": {},
   "outputs": [],
   "source": [
    "def find_scc_2(graph):\n",
    "    ## graph as input is the original graph\n",
    "    original_graph = graph.copy()\n",
    "    graph_flag, stack_of_vertex_1 = prep(graph,[],1)\n",
    "    \n",
    "    ## first pass loop to determin t (magic order)\n",
    "    t = [0]  # number of nodes processed so far\n",
    "\n",
    "    \n",
    "    for index in range(len(graph_flag)):\n",
    "        if check_flag(graph_flag[index]):\n",
    "            depth_first_search_first(graph_flag,index+1,stack_of_vertex_1,t)\n",
    "    \n",
    "    ## second pass to get scc\n",
    "    \n",
    "    leader_s = 0  # used in second pass to record label of scc\n",
    "    leader_recorder = []\n",
    "#     scc_lib = {}\n",
    "    scc_list = []\n",
    "    scc_size = 0\n",
    "    \n",
    "    original_t_flag, stack_of_vertex_2 = prep(original_graph,graph_flag,2)\n",
    "    original_flag = original_t_flag\n",
    "    remove_zero = []\n",
    "    \n",
    "    \n",
    "    for index in range(len(original_t_flag)):\n",
    "        if original_t_flag[index][0] != 0:\n",
    "#             print(\"there is a zero\", index)\n",
    "            remove_zero.append(original_t_flag[index])\n",
    "    \n",
    "    remove_zero.sort()   \n",
    "    original_t_flag = remove_zero[::-1]      \n",
    "\n",
    "    \n",
    "    for index in range(len(original_t_flag)):\n",
    "        if check_flag(original_t_flag[index]):\n",
    "            scc_size = 0\n",
    "            leader_s = original_t_flag[index][0]\n",
    "#             scc_lib[lead_s] = scc_size\n",
    "            leader_recorder.append(leader_s)\n",
    "            scc_size = depth_first_search_second(original_t_flag,index+1,stack_of_vertex_2,leader_s,original_flag,scc_size)\n",
    "        \n",
    "            scc_list.append(scc_size)\n",
    "            \n",
    "    \n",
    "    \n",
    "        \n",
    "    \n",
    "    return leader_recorder, scc_list"
   ]
  },
  {
   "cell_type": "code",
   "execution_count": 21,
   "metadata": {},
   "outputs": [],
   "source": [
    "def depth_first_search_first(graph_flag,s,stack,t):  # s is the index of that vertex of interest (s-1 for index in graph)\n",
    "    \n",
    "    stack_of_vertex = stack\n",
    "\n",
    "    graph_flag[s-1][-3] = True  # mark s as explored    \n",
    "\n",
    "    # initialize Q with s\n",
    "    stack_of_vertex.push_s(graph_flag[s-1][0])\n",
    "    \n",
    "\n",
    "    if not stack_of_vertex.is_empty():        \n",
    "        m = stack_of_vertex[-1]\n",
    "#         print(\"current m: \", m) # for debug\n",
    "        length = len(graph_flag)\n",
    "        node_m = graph_flag[length-m]\n",
    "        \n",
    "        if len(node_m)>5:\n",
    "            for index in range(2,len(node_m)-3):\n",
    "                n = node_m[index]\n",
    "#                 print(\"n:\" ,n)\n",
    "                if check_flag(graph_flag[n-1]):\n",
    "                    print(\"run recursion\")\n",
    "                    depth_first_search_first(graph_flag,n,stack_of_vertex,t)              \n",
    "            \n",
    "\n",
    "            t[0] = t[0] + 1\n",
    "            graph_flag[length-m][-1] = t[0]\n",
    "\n",
    "            stack_of_vertex.pop()\n",
    "     \n",
    "    return  \n",
    "            "
   ]
  },
  {
   "cell_type": "code",
   "execution_count": 22,
   "metadata": {},
   "outputs": [],
   "source": [
    "def depth_first_search_second(original_t_flag,s,stack,leader_s,original_flag,scc_size):  # s is the index of that vertex of interest (s-1 for index in graph)\n",
    "    \n",
    "    stack_of_vertex = stack\n",
    "#     print(original_t_flag)\n",
    "#     print(original_flag)\n",
    "\n",
    "    original_t_flag[s-1][-3] = True  # mark s as explored\n",
    "    i = original_t_flag[s-1][1]\n",
    "    original_flag[i-1][-3] = True\n",
    "    original_flag[i-1][-2] = leader_s  # assign leader_s\n",
    "    scc_size += 1\n",
    "    \n",
    "\n",
    "    # initialize Q with s\n",
    "    stack_of_vertex.push_s(original_t_flag[s-1][0])\n",
    "    \n",
    "\n",
    "    if not stack_of_vertex.is_empty():        \n",
    "        m = stack_of_vertex[-1]\n",
    "        i = original_t_flag[s-1][1]\n",
    "        length = len(original_t_flag)\n",
    "        node_m = original_t_flag[length-m]\n",
    "    \n",
    "        for index in range(2,len(node_m)-3):\n",
    "            n = node_m[index]\n",
    "#             print(original_flag[n-1])\n",
    "            if check_flag(original_flag[n-1]):\n",
    "                n_t = length + 1 - original_flag[n-1][0]\n",
    "                scc_size = depth_first_search_second(original_t_flag,n_t,stack_of_vertex,leader_s,original_flag,scc_size)         \n",
    "       \n",
    "        stack_of_vertex.pop()\n",
    "         \n",
    "    return scc_size "
   ]
  },
  {
   "cell_type": "code",
   "execution_count": null,
   "metadata": {},
   "outputs": [],
   "source": []
  },
  {
   "cell_type": "code",
   "execution_count": null,
   "metadata": {},
   "outputs": [],
   "source": []
  },
  {
   "cell_type": "code",
   "execution_count": null,
   "metadata": {},
   "outputs": [],
   "source": []
  },
  {
   "cell_type": "code",
   "execution_count": null,
   "metadata": {},
   "outputs": [],
   "source": []
  },
  {
   "cell_type": "code",
   "execution_count": 16,
   "metadata": {},
   "outputs": [],
   "source": [
    "# importing the sys module \n",
    "import sys \n",
    "  \n",
    "# the setrecursionlimit function is \n",
    "# used to modify the default recursion \n",
    "# limit set by python. Using this,  \n",
    "# we can increase the recursion limit \n",
    "# to satisfy our needs \n",
    "  \n",
    "sys.setrecursionlimit(10**6) "
   ]
  },
  {
   "cell_type": "code",
   "execution_count": 17,
   "metadata": {},
   "outputs": [],
   "source": [
    "# def check_dup(graph):\n",
    "#     result = 0\n",
    "#     for index in range(len(graph)):\n",
    "#         if graph[index][0] == graph[index][1]:\n",
    "#             result += 1\n",
    "#     return result\n",
    "            "
   ]
  },
  {
   "cell_type": "code",
   "execution_count": 19,
   "metadata": {},
   "outputs": [
    {
     "name": "stdout",
     "output_type": "stream",
     "text": [
      "5105042\n",
      "875709\n",
      "CPU times: user 28.5 s, sys: 226 ms, total: 28.7 s\n",
      "Wall time: 28.6 s\n"
     ]
    }
   ],
   "source": [
    "%%time\n",
    "file_name = 'SCC_no_duplicate.txt'\n",
    "graph = load_graph(file_name)\n",
    "graph_copy = graph.copy()\n",
    "graph_flag, stack_of_vertex_1 = prep(graph_copy,[],1)\n",
    "\n",
    "print(len(graph_copy))\n",
    "print(len(graph_flag))\n"
   ]
  },
  {
   "cell_type": "code",
   "execution_count": null,
   "metadata": {},
   "outputs": [],
   "source": []
  },
  {
   "cell_type": "code",
   "execution_count": 29,
   "metadata": {},
   "outputs": [
    {
     "name": "stdout",
     "output_type": "stream",
     "text": [
      "11\n",
      "[[15, 1, 5, False, 0, 0], [14, 2, False, 0, 0], [13, 3, 1, False, 0, 0], [12, 4, False, 0, 0], [11, 5, 3, 6, False, 0, 0], [10, 6, 9, False, 0, 0], [9, 7, 6, False, 0, 0], [8, 8, False, 0, 0], [7, 9, 7, 10, False, 0, 0], [6, 10, 11, False, 0, 0], [5, 11, 15, False, 0, 0], [4, 12, False, 0, 0], [3, 13, False, 0, 0], [2, 14, False, 0, 0], [1, 15, 10, False, 0, 0]]\n",
      "run recursion\n",
      "run recursion\n",
      "run recursion\n",
      "run recursion\n",
      "run recursion\n",
      "run recursion\n",
      "run recursion\n",
      "run recursion\n",
      "[[15, 1, 5, True, 0, 9], [14, 2, True, 0, 0], [13, 3, 1, True, 0, 1], [12, 4, True, 0, 0], [11, 5, 3, 6, True, 0, 8], [10, 6, 9, True, 0, 7], [9, 7, 6, True, 0, 2], [8, 8, True, 0, 0], [7, 9, 7, 10, True, 0, 6], [6, 10, 11, True, 0, 5], [5, 11, 15, True, 0, 4], [4, 12, True, 0, 0], [3, 13, True, 0, 0], [2, 14, True, 0, 0], [1, 15, 10, True, 0, 3]]\n",
      "CPU times: user 1.09 ms, sys: 105 µs, total: 1.2 ms\n",
      "Wall time: 986 µs\n"
     ]
    }
   ],
   "source": [
    "%%time\n",
    "file_name = 'SCC_test_example (disconnect).txt'\n",
    "graph = load_graph(file_name)\n",
    "graph_copy = graph.copy()\n",
    "\n",
    "print(len(graph_copy))\n",
    "graph_t = find_scc_1(graph_copy)\n",
    "\n",
    "# print(recorder)\n",
    "# print(scc_list)\n",
    "print(graph_t)\n",
    "\n",
    "\n",
    "    "
   ]
  },
  {
   "cell_type": "code",
   "execution_count": 19,
   "metadata": {},
   "outputs": [],
   "source": [
    "def find_jumped_index(compressed):\n",
    "    result = []\n",
    "    for index in range(len(compressed)):        \n",
    "        if index+1 != compressed[index][0]:\n",
    "            result.append(index)\n",
    "    return result"
   ]
  },
  {
   "cell_type": "code",
   "execution_count": 20,
   "metadata": {},
   "outputs": [
    {
     "ename": "NameError",
     "evalue": "name 'compressed' is not defined",
     "output_type": "error",
     "traceback": [
      "\u001b[0;31m---------------------------------------------------------------------------\u001b[0m",
      "\u001b[0;31mNameError\u001b[0m                                 Traceback (most recent call last)",
      "\u001b[0;32m<ipython-input-20-4b7fc2b65f17>\u001b[0m in \u001b[0;36m<module>\u001b[0;34m\u001b[0m\n\u001b[0;32m----> 1\u001b[0;31m \u001b[0mresult\u001b[0m \u001b[0;34m=\u001b[0m \u001b[0mfind_jumped_index\u001b[0m\u001b[0;34m(\u001b[0m\u001b[0mcompressed\u001b[0m\u001b[0;34m)\u001b[0m\u001b[0;34m\u001b[0m\u001b[0;34m\u001b[0m\u001b[0m\n\u001b[0m\u001b[1;32m      2\u001b[0m \u001b[0mprint\u001b[0m\u001b[0;34m(\u001b[0m\u001b[0mlen\u001b[0m\u001b[0;34m(\u001b[0m\u001b[0mresult\u001b[0m\u001b[0;34m)\u001b[0m\u001b[0;34m)\u001b[0m\u001b[0;34m\u001b[0m\u001b[0;34m\u001b[0m\u001b[0m\n",
      "\u001b[0;31mNameError\u001b[0m: name 'compressed' is not defined"
     ]
    }
   ],
   "source": [
    "result = find_jumped_index(compressed)\n",
    "print(len(result))"
   ]
  },
  {
   "cell_type": "code",
   "execution_count": 141,
   "metadata": {},
   "outputs": [
    {
     "name": "stdout",
     "output_type": "stream",
     "text": [
      "[2, 1, 2, 3]\n"
     ]
    }
   ],
   "source": [
    "a = [1,2,3]\n",
    "b = [2]\n",
    "b = b+a\n",
    "print(b)"
   ]
  },
  {
   "cell_type": "code",
   "execution_count": null,
   "metadata": {},
   "outputs": [],
   "source": []
  },
  {
   "cell_type": "code",
   "execution_count": 17,
   "metadata": {},
   "outputs": [
    {
     "name": "stdout",
     "output_type": "stream",
     "text": [
      "[1, 2, 3, False, 0, 0]\n"
     ]
    }
   ],
   "source": [
    "a = [1,2,3]\n",
    "flag = False\n",
    "a.append(flag)\n",
    "a.append(0)\n",
    "a.append(0)\n",
    "print(a)"
   ]
  },
  {
   "cell_type": "code",
   "execution_count": 22,
   "metadata": {},
   "outputs": [
    {
     "name": "stdout",
     "output_type": "stream",
     "text": [
      "[1, 2, 0]\n"
     ]
    }
   ],
   "source": [
    "a = [0]\n",
    "b = [1,2,3]\n",
    "b[-1] = int(a[0])\n",
    "print(b)"
   ]
  },
  {
   "cell_type": "code",
   "execution_count": null,
   "metadata": {},
   "outputs": [],
   "source": [
    "a = [[9,9],[8,7],[8,6],[7,2],[6,4]]"
   ]
  },
  {
   "cell_type": "code",
   "execution_count": 33,
   "metadata": {},
   "outputs": [
    {
     "name": "stdout",
     "output_type": "stream",
     "text": [
      "[[1, 0, 2, 3], [2, 4], [3, 6]]\n"
     ]
    }
   ],
   "source": [
    "def compress_graph(a):\n",
    "    b = [[0,0]]\n",
    "    for index in range(len(a)):\n",
    "        if b[-1][0]==a[index][0]:\n",
    "            b[-1].append(a[index][1])\n",
    "        else:\n",
    "            b.append(a[index])\n",
    "    b.pop(0)\n",
    "    return b\n",
    "    "
   ]
  },
  {
   "cell_type": "code",
   "execution_count": 28,
   "metadata": {},
   "outputs": [
    {
     "name": "stdout",
     "output_type": "stream",
     "text": [
      "0\n"
     ]
    }
   ],
   "source": []
  },
  {
   "cell_type": "code",
   "execution_count": null,
   "metadata": {},
   "outputs": [],
   "source": []
  },
  {
   "cell_type": "code",
   "execution_count": 220,
   "metadata": {},
   "outputs": [
    {
     "name": "stdout",
     "output_type": "stream",
     "text": [
      "[[9, 9], [8, 7], [3], [8, 6], [7, 2], [6, 4]]\n"
     ]
    }
   ],
   "source": [
    "a = [[9,9],[8,7],[8,6],[7,2],[6,4]]\n",
    "b = 3\n",
    "a.insert(2,[b])\n",
    "print(a)"
   ]
  },
  {
   "cell_type": "code",
   "execution_count": 417,
   "metadata": {},
   "outputs": [
    {
     "name": "stdout",
     "output_type": "stream",
     "text": [
      "[[9, 9], [7, 2], [6, 4]]\n",
      "[[9, 9], [7, 2], [6, 4]]\n"
     ]
    }
   ],
   "source": [
    "a = [[9,9],[8,7],[8,6],[7,2],[6,4]]\n",
    "b = []\n",
    "for index in range(len(a)):\n",
    "    if a[index][0]!=8:\n",
    "        b.append(a[index])\n",
    "\n",
    "a = b\n",
    "print(b)\n",
    "print(a)\n"
   ]
  },
  {
   "cell_type": "code",
   "execution_count": 413,
   "metadata": {},
   "outputs": [
    {
     "name": "stdout",
     "output_type": "stream",
     "text": [
      "f\n",
      "f\n",
      "f\n"
     ]
    }
   ],
   "source": [
    "for i in range(3):\n",
    "    print ('f')"
   ]
  },
  {
   "cell_type": "code",
   "execution_count": 441,
   "metadata": {},
   "outputs": [
    {
     "name": "stdout",
     "output_type": "stream",
     "text": [
      "[[9, 1, 5, False, 0, 0], [8, 5, 3, 6, False, 0, 0], [7, 6, 9, False, 0, 0], [6, 9, 7, 10, False, 0, 0], [5, 10, 11, False, 0, 0], [4, 11, 15, False, 0, 0], [3, 15, 10, False, 0, 0], [2, 7, 6, False, 0, 0], [1, 3, 1, False, 0, 0]]\n"
     ]
    }
   ],
   "source": [
    "a = [[9, 1, 5, False, 0, 0], [1, 3, 1, False, 0, 0], [8, 5, 3, 6, False, 0, 0], [7, 6, 9, False, 0, 0], [2, 7, 6, False, 0, 0], [6, 9, 7, 10, False, 0, 0], [5, 10, 11, False, 0, 0], [4, 11, 15, False, 0, 0], [3, 15, 10, False, 0, 0]]\n",
    "a.sort()\n",
    "b = a[::-1]\n",
    "print(b)\n"
   ]
  },
  {
   "cell_type": "code",
   "execution_count": 472,
   "metadata": {},
   "outputs": [
    {
     "name": "stdout",
     "output_type": "stream",
     "text": [
      "{5: 4}\n"
     ]
    }
   ],
   "source": [
    "lib = {}\n",
    "lead_s = 5\n",
    "lib[lead_s] = 4\n",
    "print(lib)"
   ]
  },
  {
   "cell_type": "code",
   "execution_count": 522,
   "metadata": {},
   "outputs": [
    {
     "name": "stdout",
     "output_type": "stream",
     "text": [
      "{1: 1, 0: 0, 2: 2}\n"
     ]
    }
   ],
   "source": [
    "a = {1:2}\n",
    "for i in range(3):\n",
    "    a[i] = i\n",
    "    \n",
    "print(a)"
   ]
  },
  {
   "cell_type": "code",
   "execution_count": null,
   "metadata": {},
   "outputs": [],
   "source": []
  },
  {
   "cell_type": "code",
   "execution_count": null,
   "metadata": {},
   "outputs": [],
   "source": []
  },
  {
   "cell_type": "code",
   "execution_count": 30,
   "metadata": {},
   "outputs": [
    {
     "name": "stdout",
     "output_type": "stream",
     "text": [
      "[0, 10, 20, 30, 40, 50, 60]\n"
     ]
    }
   ],
   "source": [
    "l = [0, 10, 20, 30, 40, 50, 60]\n",
    "print(l)\n",
    "# [0, 10, 20, 30, 40, 50, 60]"
   ]
  },
  {
   "cell_type": "code",
   "execution_count": 31,
   "metadata": {},
   "outputs": [
    {
     "name": "stdout",
     "output_type": "stream",
     "text": [
      "slice(2, 5, 2)\n",
      "<class 'slice'>\n",
      "[20, 40]\n"
     ]
    }
   ],
   "source": [
    "sl = slice(2, 5, 2)\n",
    "print(sl)\n",
    "# slice(2, 5, 2)\n",
    "\n",
    "print(type(sl))\n",
    "# <class 'slice'>\n",
    "\n",
    "print(l[sl])\n",
    "# [20, 40]"
   ]
  },
  {
   "cell_type": "code",
   "execution_count": 32,
   "metadata": {},
   "outputs": [
    {
     "name": "stdout",
     "output_type": "stream",
     "text": [
      "slice(2, 5, None)\n",
      "[20, 30, 40]\n"
     ]
    }
   ],
   "source": [
    "sl = slice(2, 5)\n",
    "print(sl)\n",
    "# slice(2, 5, None)\n",
    "\n",
    "print(l[sl])\n",
    "# [20, 30, 40]"
   ]
  },
  {
   "cell_type": "code",
   "execution_count": 34,
   "metadata": {},
   "outputs": [
    {
     "name": "stdout",
     "output_type": "stream",
     "text": [
      "[1, 2]\n"
     ]
    }
   ],
   "source": [
    "a = ([1,2],[2,3])\n",
    "b = a[0]\n",
    "print(b)"
   ]
  },
  {
   "cell_type": "code",
   "execution_count": 35,
   "metadata": {},
   "outputs": [
    {
     "name": "stdout",
     "output_type": "stream",
     "text": [
      "3\n"
     ]
    }
   ],
   "source": [
    "a = True\n",
    "if a:\n",
    "    b = 3\n",
    "    a = False\n",
    "print(b)"
   ]
  },
  {
   "cell_type": "code",
   "execution_count": null,
   "metadata": {},
   "outputs": [],
   "source": []
  }
 ],
 "metadata": {
  "kernelspec": {
   "display_name": "Python 3",
   "language": "python",
   "name": "python3"
  },
  "language_info": {
   "codemirror_mode": {
    "name": "ipython",
    "version": 3
   },
   "file_extension": ".py",
   "mimetype": "text/x-python",
   "name": "python",
   "nbconvert_exporter": "python",
   "pygments_lexer": "ipython3",
   "version": "3.7.7"
  }
 },
 "nbformat": 4,
 "nbformat_minor": 4
}
