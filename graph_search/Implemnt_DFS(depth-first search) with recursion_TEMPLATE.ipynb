{
 "cells": [
  {
   "cell_type": "code",
   "execution_count": 7,
   "metadata": {},
   "outputs": [],
   "source": [
    "# DFS(depth-first search): explore aggressively, only backtrack when necessary(all the way back)\n",
    "# data structure: a stack (LIFO) with method of \n",
    "    # \"push\" (add vertex to the end of stack)\n",
    "    # \"pop\" (remove node from the end of S)\n",
    "    # \"is_empty\" (check if the S is empty)\n",
    "    # \"view\" (take a look at current stack)\n",
    "# add a flag indicator into the graph G for each vertex, indicating explored/ unexplored"
   ]
  },
  {
   "cell_type": "code",
   "execution_count": 8,
   "metadata": {},
   "outputs": [],
   "source": [
    "import copy"
   ]
  },
  {
   "cell_type": "code",
   "execution_count": 9,
   "metadata": {},
   "outputs": [],
   "source": [
    "def load_graph(file_name):\n",
    "    with open(file_name) as f:\n",
    "        #kargerMinCut\n",
    "        #a = [[int(x) for x in ln.split()] for ln in f]\n",
    "        data_set = []\n",
    "        for ln in f:\n",
    "            line = ln.split()\n",
    "            if line:\n",
    "                a = [int(x) for x in line]\n",
    "                data_set.append(a)\n",
    "    return data_set"
   ]
  },
  {
   "cell_type": "code",
   "execution_count": 10,
   "metadata": {},
   "outputs": [],
   "source": [
    "def make_a_copy(graph):\n",
    "    return graph.copy()"
   ]
  },
  {
   "cell_type": "code",
   "execution_count": 11,
   "metadata": {},
   "outputs": [],
   "source": [
    "def add_init_flag(graph):\n",
    "    copy_graph = graph.copy()\n",
    "    flag = False\n",
    "    for x in range(0,len(graph)):\n",
    "        graph[x].append(flag)  # add an initial flag of false(as unexplored) AT THE END of each vertex\n",
    "    return copy_graph"
   ]
  },
  {
   "cell_type": "code",
   "execution_count": 12,
   "metadata": {},
   "outputs": [],
   "source": [
    "def check_flag(vertex):  # check flag of one vertex, if unexplored(false flag), then mark it as explored(flag==true) and return true\n",
    "    if vertex[-1] == False:        \n",
    "        return 1\n",
    "    else:\n",
    "        return 0    "
   ]
  },
  {
   "cell_type": "code",
   "execution_count": 13,
   "metadata": {},
   "outputs": [],
   "source": [
    "class Stack(list):\n",
    "    def __init__(self):\n",
    "        self = []\n",
    "    \n",
    "    def push_s(self, item):\n",
    "        self.append(item)\n",
    "    \n",
    "    def pop_s(self):\n",
    "        return self.pop()\n",
    "    \n",
    "    def is_empty(self):\n",
    "        return len(self)==0\n",
    "    \n",
    "    def peek(self):\n",
    "        if not self.is_empty():\n",
    "            return self[-1]\n",
    "    \n",
    "    def get_stack(self):\n",
    "        return self"
   ]
  },
  {
   "cell_type": "code",
   "execution_count": 77,
   "metadata": {},
   "outputs": [],
   "source": [
    "def depth_first_search(graph_flag,s,stack):  # s is the index of that vertex of interest (s-1 for index in graph)\n",
    "    \n",
    "    stack_of_vertex = stack\n",
    "    # mark s as explored\n",
    "    graph_flag[s-1][-1] = True\n",
    "\n",
    "    # initialize Q with s\n",
    "    stack_of_vertex.push_s(s)\n",
    "    print(\"current s:\" ,s)\n",
    "\n",
    "    if not stack_of_vertex.is_empty():        \n",
    "        m = stack_of_vertex[-1]\n",
    "        print(\"current m: \", m) # for debug\n",
    "        node_m = graph_flag[m-1]\n",
    "\n",
    "        print(\"while still running\")\n",
    "        for index in range(1,len(node_m)-1):\n",
    "            print(m)\n",
    "            print(\"for still going!\")            \n",
    "            n = node_m[index]\n",
    "            print(\"current n: \", n) # debug\n",
    "\n",
    "            if check_flag(graph_flag[n-1]):\n",
    "                print(\"check a new element!\") #debug\n",
    "                depth_first_search(graph_flag,n,stack_of_vertex) \n",
    "\n",
    "        stack_of_vertex.pop()            \n",
    "     \n",
    "    return\n",
    "            \n",
    "            \n",
    "                \n",
    "                \n",
    "              "
   ]
  },
  {
   "cell_type": "code",
   "execution_count": 78,
   "metadata": {},
   "outputs": [],
   "source": [
    "def prep(graph):\n",
    "    stack_of_vertex = Stack()  # initiate an empty queue\n",
    "    graph_flag = add_init_flag(graph)\n",
    "    \n",
    "    return graph_flag, stack_of_vertex \n",
    "    "
   ]
  },
  {
   "cell_type": "code",
   "execution_count": 79,
   "metadata": {},
   "outputs": [],
   "source": [
    "def dfs_test(graph,s):\n",
    "    graph_flag, stack_of_vertex = prep(graph)\n",
    "    depth_first_search(graph_flag,s,stack_of_vertex)\n",
    "    return "
   ]
  },
  {
   "cell_type": "code",
   "execution_count": null,
   "metadata": {},
   "outputs": [],
   "source": []
  },
  {
   "cell_type": "code",
   "execution_count": 80,
   "metadata": {},
   "outputs": [
    {
     "name": "stdout",
     "output_type": "stream",
     "text": [
      "current s: 5\n",
      "current m:  5\n",
      "while still running\n",
      "5\n",
      "for still going!\n",
      "current n:  1\n",
      "check a new element!\n",
      "current s: 1\n",
      "current m:  1\n",
      "while still running\n",
      "1\n",
      "for still going!\n",
      "current n:  3\n",
      "check a new element!\n",
      "current s: 3\n",
      "current m:  3\n",
      "while still running\n",
      "3\n",
      "for still going!\n",
      "current n:  1\n",
      "3\n",
      "for still going!\n",
      "current n:  5\n",
      "1\n",
      "for still going!\n",
      "current n:  5\n",
      "5\n",
      "for still going!\n",
      "current n:  3\n",
      "5\n",
      "for still going!\n",
      "current n:  7\n",
      "check a new element!\n",
      "current s: 7\n",
      "current m:  7\n",
      "while still running\n",
      "7\n",
      "for still going!\n",
      "current n:  5\n",
      "5\n",
      "for still going!\n",
      "current n:  9\n",
      "check a new element!\n",
      "current s: 9\n",
      "current m:  9\n",
      "while still running\n",
      "9\n",
      "for still going!\n",
      "current n:  5\n",
      "CPU times: user 10.2 ms, sys: 160 µs, total: 10.4 ms\n",
      "Wall time: 8.52 ms\n"
     ]
    }
   ],
   "source": [
    "%%time\n",
    "# trial and test code block here! \n",
    "\n",
    "file_name = 'find_cluster_test.txt'    ## for input the data file and make a test_copy of it\n",
    "graph = load_graph(file_name)\n",
    "# print(len(graph))\n",
    "test_graph = make_a_copy(graph)\n",
    "\n",
    "result = dfs_test(test_graph,5)\n",
    "\n"
   ]
  },
  {
   "cell_type": "code",
   "execution_count": null,
   "metadata": {},
   "outputs": [],
   "source": []
  },
  {
   "cell_type": "code",
   "execution_count": 81,
   "metadata": {},
   "outputs": [
    {
     "name": "stdout",
     "output_type": "stream",
     "text": [
      "['A', 'B']\n",
      "['A', 'B']\n",
      "2\n"
     ]
    }
   ],
   "source": [
    "s=Stack()\n",
    "s.is_empty()\n",
    "s.push_s('A')\n",
    "s.get_stack()\n",
    "s.push_s('B')\n",
    "print(s.get_stack())\n",
    "print(s)\n",
    "print(len(s))\n"
   ]
  },
  {
   "cell_type": "code",
   "execution_count": 2,
   "metadata": {},
   "outputs": [
    {
     "name": "stdout",
     "output_type": "stream",
     "text": [
      "fuk\n",
      "f\n",
      "f\n",
      "f\n"
     ]
    }
   ],
   "source": [
    "a = False\n",
    "while not a:\n",
    "    print(\"fuk\")\n",
    "    \n",
    "    \n",
    "    for i in range(3):\n",
    "        print(\"f\")\n",
    "        a = True"
   ]
  },
  {
   "cell_type": "code",
   "execution_count": 19,
   "metadata": {},
   "outputs": [
    {
     "name": "stdout",
     "output_type": "stream",
     "text": [
      "current m:  2\n",
      "run 2\n",
      "current n:  3\n"
     ]
    }
   ],
   "source": [
    "a = [1,2,3]\n",
    "af = False\n",
    "while (not af):        \n",
    "    m = a[1]\n",
    "    print(\"current m: \", m) # for debug    \n",
    "\n",
    "    for index in range(1,len(a)-1):\n",
    "        print(\"run\", m)\n",
    "        n = a[-1]\n",
    "        print(\"current n: \", n) # debug\n",
    "         \n",
    "\n",
    "    if not af:\n",
    "        af = True\n",
    "        "
   ]
  },
  {
   "cell_type": "code",
   "execution_count": 81,
   "metadata": {},
   "outputs": [
    {
     "name": "stdout",
     "output_type": "stream",
     "text": [
      "fuk\n",
      "dick\n"
     ]
    }
   ],
   "source": [
    "a = False\n",
    "while not a:\n",
    "    print (\"fuk\")\n",
    "    a = True\n",
    "    print(\"dick\")"
   ]
  },
  {
   "cell_type": "code",
   "execution_count": null,
   "metadata": {},
   "outputs": [],
   "source": []
  }
 ],
 "metadata": {
  "kernelspec": {
   "display_name": "Python 3",
   "language": "python",
   "name": "python3"
  },
  "language_info": {
   "codemirror_mode": {
    "name": "ipython",
    "version": 3
   },
   "file_extension": ".py",
   "mimetype": "text/x-python",
   "name": "python",
   "nbconvert_exporter": "python",
   "pygments_lexer": "ipython3",
   "version": "3.7.4"
  }
 },
 "nbformat": 4,
 "nbformat_minor": 4
}
