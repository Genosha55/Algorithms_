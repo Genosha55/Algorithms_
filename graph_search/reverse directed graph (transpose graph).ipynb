{
 "cells": [
  {
   "cell_type": "code",
   "execution_count": null,
   "metadata": {},
   "outputs": [],
   "source": [
    "## reverse a directed graph I to II \n",
    "## loop through the label in A and collect the labels (nodes) that having the label A in them and put those nodes in \n",
    "## reversed graph under label A\n",
    "## from Edge! from the last position of original node to retrive node label, then remove this last position, recursively"
   ]
  },
  {
   "cell_type": "code",
   "execution_count": 9,
   "metadata": {},
   "outputs": [],
   "source": [
    "import copy"
   ]
  },
  {
   "cell_type": "code",
   "execution_count": 16,
   "metadata": {},
   "outputs": [],
   "source": [
    "def load_graph(file_name):\n",
    "    with open(file_name) as f:\n",
    "        data_set = []\n",
    "        for ln in f:\n",
    "            line = ln.split()\n",
    "            if line:\n",
    "                a = [int(x) for x in line]\n",
    "                data_set.append(a)\n",
    "    return data_set\n",
    "\n",
    "# file_name = 'directed graph_test.txt'    ## for input the data file and make a test_copy of it\n"
   ]
  },
  {
   "cell_type": "code",
   "execution_count": 11,
   "metadata": {},
   "outputs": [],
   "source": [
    "def make_a_copy(graph):\n",
    "    return graph.copy()"
   ]
  },
  {
   "cell_type": "code",
   "execution_count": 24,
   "metadata": {},
   "outputs": [],
   "source": [
    "def find_edge(label, foward_graph, reverse_graph):\n",
    "    \n",
    "    while len(foward_graph[label])>1:\n",
    "        rev_index = foward_graph[label][-1]\n",
    "        reverse_graph[rev_index-1].append(label+1)\n",
    "        foward_graph[label].pop()\n",
    "        find_edge(label, foward_graph, reverse_graph)\n",
    "    else:\n",
    "        pass     \n",
    "    "
   ]
  },
  {
   "cell_type": "code",
   "execution_count": 25,
   "metadata": {},
   "outputs": [],
   "source": [
    "def transpose_graph(graph):\n",
    "    reverse_graph = []\n",
    "    for index in range(len(graph)):\n",
    "        reverse_graph.append([graph[index][0]])        \n",
    "    \n",
    "    for index in range(len(graph)):\n",
    "        find_edge(index,graph,reverse_graph)\n",
    "    \n",
    "    return reverse_graph       \n",
    "    "
   ]
  },
  {
   "cell_type": "code",
   "execution_count": null,
   "metadata": {},
   "outputs": [],
   "source": []
  },
  {
   "cell_type": "code",
   "execution_count": 29,
   "metadata": {},
   "outputs": [
    {
     "data": {
      "text/plain": [
       "[[1, 2, 4, 5], [2], [3, 1], [4, 3], [5, 2, 4]]"
      ]
     },
     "execution_count": 29,
     "metadata": {},
     "output_type": "execute_result"
    }
   ],
   "source": [
    "file_name = 'reverse graph (transpose).txt'\n",
    "graph = load_graph(file_name)\n",
    "graph_copy = make_a_copy(graph)\n",
    "graph_copy"
   ]
  },
  {
   "cell_type": "code",
   "execution_count": 30,
   "metadata": {},
   "outputs": [
    {
     "name": "stdout",
     "output_type": "stream",
     "text": [
      "[[1, 3], [2, 1, 5], [3, 4], [4, 1, 5], [5, 1]]\n",
      "CPU times: user 433 µs, sys: 28 µs, total: 461 µs\n",
      "Wall time: 514 µs\n"
     ]
    }
   ],
   "source": [
    "%%time\n",
    "result = transpose_graph(graph_copy)\n",
    "print(result)"
   ]
  },
  {
   "cell_type": "code",
   "execution_count": null,
   "metadata": {},
   "outputs": [],
   "source": []
  },
  {
   "cell_type": "code",
   "execution_count": null,
   "metadata": {},
   "outputs": [],
   "source": []
  },
  {
   "cell_type": "code",
   "execution_count": null,
   "metadata": {},
   "outputs": [],
   "source": []
  },
  {
   "cell_type": "code",
   "execution_count": null,
   "metadata": {},
   "outputs": [],
   "source": []
  },
  {
   "cell_type": "code",
   "execution_count": null,
   "metadata": {},
   "outputs": [],
   "source": []
  },
  {
   "cell_type": "code",
   "execution_count": null,
   "metadata": {},
   "outputs": [],
   "source": []
  },
  {
   "cell_type": "code",
   "execution_count": null,
   "metadata": {},
   "outputs": [],
   "source": []
  },
  {
   "cell_type": "code",
   "execution_count": 7,
   "metadata": {},
   "outputs": [
    {
     "name": "stdout",
     "output_type": "stream",
     "text": [
      "[[1], [2], [3]]\n"
     ]
    }
   ],
   "source": [
    "a = [[1],[2],[3]]\n",
    "b = []\n",
    "for i in range(3):\n",
    "    b.append([a[i][0]])\n",
    "print(b)"
   ]
  },
  {
   "cell_type": "code",
   "execution_count": 8,
   "metadata": {},
   "outputs": [
    {
     "name": "stdout",
     "output_type": "stream",
     "text": [
      "[[1, 2], [2], [3]]\n"
     ]
    }
   ],
   "source": [
    "b[0].append(2)\n",
    "print(b)"
   ]
  },
  {
   "cell_type": "code",
   "execution_count": null,
   "metadata": {},
   "outputs": [],
   "source": []
  }
 ],
 "metadata": {
  "kernelspec": {
   "display_name": "Python 3",
   "language": "python",
   "name": "python3"
  },
  "language_info": {
   "codemirror_mode": {
    "name": "ipython",
    "version": 3
   },
   "file_extension": ".py",
   "mimetype": "text/x-python",
   "name": "python",
   "nbconvert_exporter": "python",
   "pygments_lexer": "ipython3",
   "version": "3.7.4"
  }
 },
 "nbformat": 4,
 "nbformat_minor": 4
}
