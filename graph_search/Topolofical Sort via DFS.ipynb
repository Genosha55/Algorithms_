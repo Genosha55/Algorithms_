{
 "cells": [
  {
   "cell_type": "code",
   "execution_count": 22,
   "metadata": {},
   "outputs": [],
   "source": [
    "## a topological ordering of a directed graph G is a labeling of f of G's nodes such that\n",
    "## 1. The f(v)'s are the set {1,2,3...n}\n",
    "## 2. (u,v) belongs G => f(u)<f(v) (try to get the label f(n) for each n in the graph)\n",
    "\n",
    "## add an additional last element to each node to record the topo f(n) "
   ]
  },
  {
   "cell_type": "code",
   "execution_count": 23,
   "metadata": {},
   "outputs": [],
   "source": [
    "import copy"
   ]
  },
  {
   "cell_type": "code",
   "execution_count": 104,
   "metadata": {},
   "outputs": [],
   "source": [
    "def load_graph(file_name):\n",
    "    with open(file_name) as f:\n",
    "        #kargerMinCut\n",
    "        #a = [[int(x) for x in ln.split()] for ln in f]\n",
    "        data_set = []\n",
    "        for ln in f:\n",
    "            line = ln.split()\n",
    "            if line:\n",
    "                a = [int(x) for x in line]\n",
    "                data_set.append(a)\n",
    "    return data_set"
   ]
  },
  {
   "cell_type": "code",
   "execution_count": 105,
   "metadata": {},
   "outputs": [],
   "source": [
    "def make_a_copy(graph):\n",
    "    return graph.copy()"
   ]
  },
  {
   "cell_type": "code",
   "execution_count": 125,
   "metadata": {},
   "outputs": [],
   "source": [
    "def add_flag_lb(graph):\n",
    "    copy_graph = graph.copy()\n",
    "    flag = False\n",
    "    for x in range(0,len(graph)):\n",
    "        graph[x].append(flag)  # add an initial flag of false(as unexplored) AT THE END of each vertex\n",
    "        graph[x].append([])  # add an additional spot to record the f(n) value for each node// just append the updated current_label at the end\n",
    "    return copy_graph"
   ]
  },
  {
   "cell_type": "code",
   "execution_count": 126,
   "metadata": {},
   "outputs": [],
   "source": [
    "def check_flag(vertex):  # check flag of one vertex, if unexplored(false flag), then mark it as explored(flag==true) and return true\n",
    "    if vertex[-2] == False:        \n",
    "        return 1\n",
    "    else:\n",
    "        return 0  "
   ]
  },
  {
   "cell_type": "code",
   "execution_count": 108,
   "metadata": {},
   "outputs": [],
   "source": [
    "class Stack(list):\n",
    "    def __init__(self):\n",
    "        self = []\n",
    "    \n",
    "    def push_s(self, item):\n",
    "        self.append(item)\n",
    "    \n",
    "    def pop_s(self):\n",
    "        return self.pop()\n",
    "    \n",
    "    def is_empty(self):\n",
    "        return len(self)==0\n",
    "    \n",
    "    def peek(self):\n",
    "        if not self.is_empty():\n",
    "            return self[-1]\n",
    "    \n",
    "    def get_stack(self):\n",
    "        return self"
   ]
  },
  {
   "cell_type": "code",
   "execution_count": null,
   "metadata": {},
   "outputs": [],
   "source": []
  },
  {
   "cell_type": "code",
   "execution_count": 156,
   "metadata": {},
   "outputs": [],
   "source": [
    "def depth_first_search(graph_flag,s,stack,current_label):  # s is the index of that vertex of interest (s-1 for index in graph)\n",
    "    \n",
    "    stack_of_vertex = stack\n",
    "    # mark s as explored\n",
    "    graph_flag[s-1][-2] = True\n",
    "\n",
    "    # initialize Q with s\n",
    "    stack_of_vertex.push_s(s)\n",
    "    print(\"stack: \" ,stack_of_vertex) #debug\n",
    "\n",
    "    if not stack_of_vertex.is_empty():        \n",
    "        m = stack_of_vertex[-1]\n",
    "        node_m = graph_flag[m-1]\n",
    "        \n",
    "        print(\"current m: \" ,m)\n",
    "        for index in range(1,len(node_m)-2):\n",
    "            n = node_m[index]\n",
    "\n",
    "            if check_flag(graph_flag[n-1]):\n",
    "                print(\"current check n: \" ,n)\n",
    "                print(current_label)\n",
    "                depth_first_search(graph_flag,n,stack_of_vertex,current_label)        \n",
    "        \n",
    "        print(\"current label: \" ,current_label)\n",
    "        graph_flag[m-1][-1] = current_label[0] \n",
    "        print(\"m: \",m)\n",
    "        current_label[0] = current_label[0] - 1\n",
    "        print(\"after update,cl\" ,current_label)\n",
    "        stack_of_vertex.pop()           \n",
    "     \n",
    "    return \n",
    "            "
   ]
  },
  {
   "cell_type": "code",
   "execution_count": 157,
   "metadata": {},
   "outputs": [],
   "source": [
    "def prep(graph):\n",
    "    stack_of_vertex = Stack()  # initiate an empty stack\n",
    "    graph_flag = add_flag_fn(graph)\n",
    "    \n",
    "    return graph_flag, stack_of_vertex "
   ]
  },
  {
   "cell_type": "code",
   "execution_count": 158,
   "metadata": {},
   "outputs": [],
   "source": [
    "def topological_sort(graph):\n",
    "    graph_flag, stack_of_vertex = prep(graph)\n",
    "    current_label = [len(graph_flag)]\n",
    "    for index in range(len(graph_flag)):        \n",
    "        if check_flag(graph_flag[index]):            \n",
    "            depth_first_search(graph_flag,index+1,stack_of_vertex, current_label)    \n",
    "    \n",
    "    result = graph_flag\n",
    "    \n",
    "    return result"
   ]
  },
  {
   "cell_type": "code",
   "execution_count": null,
   "metadata": {},
   "outputs": [],
   "source": []
  },
  {
   "cell_type": "code",
   "execution_count": 161,
   "metadata": {},
   "outputs": [
    {
     "name": "stdout",
     "output_type": "stream",
     "text": [
      "stack:  [1]\n",
      "current m:  1\n",
      "current check n:  2\n",
      "[6]\n",
      "stack:  [1, 2]\n",
      "current m:  2\n",
      "current check n:  4\n",
      "[6]\n",
      "stack:  [1, 2, 4]\n",
      "current m:  4\n",
      "current label:  [6]\n",
      "m:  4\n",
      "after update,cl [5]\n",
      "current check n:  5\n",
      "[5]\n",
      "stack:  [1, 2, 5]\n",
      "current m:  5\n",
      "current check n:  6\n",
      "[5]\n",
      "stack:  [1, 2, 5, 6]\n",
      "current m:  6\n",
      "current label:  [5]\n",
      "m:  6\n",
      "after update,cl [4]\n",
      "current label:  [4]\n",
      "m:  5\n",
      "after update,cl [3]\n",
      "current label:  [3]\n",
      "m:  2\n",
      "after update,cl [2]\n",
      "current check n:  3\n",
      "[2]\n",
      "stack:  [1, 3]\n",
      "current m:  3\n",
      "current label:  [2]\n",
      "m:  3\n",
      "after update,cl [1]\n",
      "current label:  [1]\n",
      "m:  1\n",
      "after update,cl [0]\n",
      "[[1, 2, 3, True, 1], [2, 4, 5, True, 3], [3, 4, True, 2], [4, True, 6], [5, 6, True, 4], [6, True, 5]]\n",
      "CPU times: user 2.93 ms, sys: 158 µs, total: 3.09 ms\n",
      "Wall time: 3.04 ms\n"
     ]
    }
   ],
   "source": [
    "%%time\n",
    "# trial and test code block here! \n",
    "\n",
    "file_name = 'directed graph_test.txt'    ## for input the data file and make a test_copy of it\n",
    "graph = load_graph(file_name)\n",
    "# print(len(graph))\n",
    "test_graph = make_a_copy(graph)\n",
    "\n",
    "result = topological_sort(test_graph)\n",
    "print(result)\n"
   ]
  },
  {
   "cell_type": "code",
   "execution_count": null,
   "metadata": {},
   "outputs": [],
   "source": []
  },
  {
   "cell_type": "code",
   "execution_count": null,
   "metadata": {},
   "outputs": [],
   "source": []
  },
  {
   "cell_type": "code",
   "execution_count": null,
   "metadata": {},
   "outputs": [],
   "source": []
  },
  {
   "cell_type": "code",
   "execution_count": null,
   "metadata": {},
   "outputs": [],
   "source": []
  },
  {
   "cell_type": "code",
   "execution_count": null,
   "metadata": {},
   "outputs": [],
   "source": []
  },
  {
   "cell_type": "code",
   "execution_count": null,
   "metadata": {},
   "outputs": [],
   "source": []
  },
  {
   "cell_type": "code",
   "execution_count": null,
   "metadata": {},
   "outputs": [],
   "source": []
  },
  {
   "cell_type": "code",
   "execution_count": null,
   "metadata": {},
   "outputs": [],
   "source": []
  },
  {
   "cell_type": "code",
   "execution_count": null,
   "metadata": {},
   "outputs": [],
   "source": []
  },
  {
   "cell_type": "code",
   "execution_count": null,
   "metadata": {},
   "outputs": [],
   "source": []
  },
  {
   "cell_type": "code",
   "execution_count": null,
   "metadata": {},
   "outputs": [],
   "source": []
  },
  {
   "cell_type": "code",
   "execution_count": null,
   "metadata": {},
   "outputs": [],
   "source": []
  },
  {
   "cell_type": "code",
   "execution_count": null,
   "metadata": {},
   "outputs": [],
   "source": []
  },
  {
   "cell_type": "code",
   "execution_count": null,
   "metadata": {},
   "outputs": [],
   "source": []
  },
  {
   "cell_type": "code",
   "execution_count": null,
   "metadata": {},
   "outputs": [],
   "source": []
  },
  {
   "cell_type": "code",
   "execution_count": null,
   "metadata": {},
   "outputs": [],
   "source": []
  },
  {
   "cell_type": "code",
   "execution_count": null,
   "metadata": {},
   "outputs": [],
   "source": []
  },
  {
   "cell_type": "code",
   "execution_count": 83,
   "metadata": {},
   "outputs": [
    {
     "name": "stdout",
     "output_type": "stream",
     "text": [
      "[1, 2, 3, 4, [2]]\n",
      "5\n"
     ]
    }
   ],
   "source": [
    "a = [1,2,3,4]\n",
    "b = [2]\n",
    "a.append(b)\n",
    "print(a)\n",
    "print(len(a))"
   ]
  },
  {
   "cell_type": "code",
   "execution_count": 82,
   "metadata": {},
   "outputs": [
    {
     "name": "stdout",
     "output_type": "stream",
     "text": [
      "[13]\n",
      "[13]\n"
     ]
    }
   ],
   "source": [
    "def plus(a):\n",
    "    a[0] += 1\n",
    "    return a\n",
    "    \n",
    "a = [12]\n",
    "b = plus(a)\n",
    "print(a)\n",
    "print(b)"
   ]
  },
  {
   "cell_type": "code",
   "execution_count": 93,
   "metadata": {},
   "outputs": [
    {
     "name": "stdout",
     "output_type": "stream",
     "text": [
      "[1]\n"
     ]
    }
   ],
   "source": [
    "a = [1]\n",
    "print(a)"
   ]
  },
  {
   "cell_type": "code",
   "execution_count": 98,
   "metadata": {},
   "outputs": [
    {
     "name": "stdout",
     "output_type": "stream",
     "text": [
      "[1, 2, [3]]\n"
     ]
    }
   ],
   "source": [
    "a = [[1,2],[3,4]]\n",
    "a[0]\n",
    "b = [3]\n",
    "a[0].append(b)\n",
    "print(a[0])"
   ]
  },
  {
   "cell_type": "code",
   "execution_count": 151,
   "metadata": {},
   "outputs": [
    {
     "name": "stdout",
     "output_type": "stream",
     "text": [
      "<class 'int'>\n",
      "[1, 2, 3, 6]\n"
     ]
    }
   ],
   "source": [
    "a = [1,2,3,[3]]\n",
    "b = [9]\n",
    "a[-1] = b\n",
    "a[-1] = 6\n",
    "print(type(a[-1]))\n",
    "print(a)"
   ]
  },
  {
   "cell_type": "code",
   "execution_count": 132,
   "metadata": {},
   "outputs": [
    {
     "name": "stdout",
     "output_type": "stream",
     "text": [
      "[5]\n"
     ]
    }
   ],
   "source": [
    "b = [4]\n",
    "b[0] = b[0]+1\n",
    "print(b)"
   ]
  },
  {
   "cell_type": "code",
   "execution_count": null,
   "metadata": {},
   "outputs": [],
   "source": []
  }
 ],
 "metadata": {
  "kernelspec": {
   "display_name": "Python 3",
   "language": "python",
   "name": "python3"
  },
  "language_info": {
   "codemirror_mode": {
    "name": "ipython",
    "version": 3
   },
   "file_extension": ".py",
   "mimetype": "text/x-python",
   "name": "python",
   "nbconvert_exporter": "python",
   "pygments_lexer": "ipython3",
   "version": "3.7.4"
  }
 },
 "nbformat": 4,
 "nbformat_minor": 4
}
