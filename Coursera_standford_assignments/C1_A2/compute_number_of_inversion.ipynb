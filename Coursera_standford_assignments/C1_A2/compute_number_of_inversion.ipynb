{
 "cells": [
  {
   "cell_type": "code",
   "execution_count": 1,
   "metadata": {},
   "outputs": [],
   "source": [
    "import pandas as pd\n",
    "import numpy as np"
   ]
  },
  {
   "cell_type": "code",
   "execution_count": 14,
   "metadata": {},
   "outputs": [],
   "source": [
    "data = pd.read_csv('new_IntegerArray.txt')"
   ]
  },
  {
   "cell_type": "code",
   "execution_count": 15,
   "metadata": {},
   "outputs": [
    {
     "data": {
      "text/html": [
       "<div>\n",
       "<style scoped>\n",
       "    .dataframe tbody tr th:only-of-type {\n",
       "        vertical-align: middle;\n",
       "    }\n",
       "\n",
       "    .dataframe tbody tr th {\n",
       "        vertical-align: top;\n",
       "    }\n",
       "\n",
       "    .dataframe thead th {\n",
       "        text-align: right;\n",
       "    }\n",
       "</style>\n",
       "<table border=\"1\" class=\"dataframe\">\n",
       "  <thead>\n",
       "    <tr style=\"text-align: right;\">\n",
       "      <th></th>\n",
       "      <th>54044</th>\n",
       "    </tr>\n",
       "  </thead>\n",
       "  <tbody>\n",
       "    <tr>\n",
       "      <th>0</th>\n",
       "      <td>14108</td>\n",
       "    </tr>\n",
       "    <tr>\n",
       "      <th>1</th>\n",
       "      <td>79294</td>\n",
       "    </tr>\n",
       "    <tr>\n",
       "      <th>2</th>\n",
       "      <td>29649</td>\n",
       "    </tr>\n",
       "    <tr>\n",
       "      <th>3</th>\n",
       "      <td>25260</td>\n",
       "    </tr>\n",
       "    <tr>\n",
       "      <th>4</th>\n",
       "      <td>60660</td>\n",
       "    </tr>\n",
       "  </tbody>\n",
       "</table>\n",
       "</div>"
      ],
      "text/plain": [
       "   54044\n",
       "0  14108\n",
       "1  79294\n",
       "2  29649\n",
       "3  25260\n",
       "4  60660"
      ]
     },
     "execution_count": 15,
     "metadata": {},
     "output_type": "execute_result"
    }
   ],
   "source": [
    "data.head()"
   ]
  },
  {
   "cell_type": "code",
   "execution_count": 16,
   "metadata": {},
   "outputs": [
    {
     "name": "stdout",
     "output_type": "stream",
     "text": [
      "[[14108]\n",
      " [79294]\n",
      " [29649]\n",
      " ...\n",
      " [74018]\n",
      " [71187]\n",
      " [91901]]\n"
     ]
    }
   ],
   "source": [
    "array = data.to_numpy()\n",
    "print(array)"
   ]
  },
  {
   "cell_type": "code",
   "execution_count": 17,
   "metadata": {},
   "outputs": [
    {
     "name": "stdout",
     "output_type": "stream",
     "text": [
      "(99999, 1)\n"
     ]
    }
   ],
   "source": [
    "print(array.shape)"
   ]
  },
  {
   "cell_type": "code",
   "execution_count": 18,
   "metadata": {},
   "outputs": [
    {
     "data": {
      "text/plain": [
       "array([[14108, 79294, 29649, ..., 74018, 71187, 91901]])"
      ]
     },
     "execution_count": 18,
     "metadata": {},
     "output_type": "execute_result"
    }
   ],
   "source": [
    "array.reshape(1,99999)"
   ]
  },
  {
   "cell_type": "code",
   "execution_count": 19,
   "metadata": {},
   "outputs": [
    {
     "name": "stdout",
     "output_type": "stream",
     "text": [
      "(99999, 1)\n"
     ]
    }
   ],
   "source": [
    "print(array.shape)"
   ]
  },
  {
   "cell_type": "code",
   "execution_count": 20,
   "metadata": {},
   "outputs": [
    {
     "data": {
      "text/plain": [
       "array([29649])"
      ]
     },
     "execution_count": 20,
     "metadata": {},
     "output_type": "execute_result"
    }
   ],
   "source": [
    "array[2]"
   ]
  },
  {
   "cell_type": "code",
   "execution_count": 21,
   "metadata": {},
   "outputs": [],
   "source": [
    "numbers = array.tolist()"
   ]
  },
  {
   "cell_type": "code",
   "execution_count": 112,
   "metadata": {},
   "outputs": [
    {
     "name": "stdout",
     "output_type": "stream",
     "text": [
      "<class 'list'>\n",
      "<class 'int'>\n"
     ]
    }
   ],
   "source": [
    "file = open('new_IntegerArray.txt') ## read in numbers instead of strings!!!! very important\n",
    "all_numbers = []\n",
    "for line in file:\n",
    "  all_numbers.append(int(line))\n",
    "print(type(all_numbers))\n",
    "print(type(all_numbers[2]))"
   ]
  },
  {
   "cell_type": "code",
   "execution_count": 98,
   "metadata": {},
   "outputs": [
    {
     "name": "stdout",
     "output_type": "stream",
     "text": [
      "<class 'list'>\n",
      "<class 'list'>\n"
     ]
    }
   ],
   "source": [
    "print(type(numbers)) # number is a list of the input numbers(integers)\n",
    "print(type(numbers[1]))"
   ]
  },
  {
   "cell_type": "code",
   "execution_count": 79,
   "metadata": {},
   "outputs": [
    {
     "data": {
      "text/plain": [
       "100"
      ]
     },
     "execution_count": 79,
     "metadata": {},
     "output_type": "execute_result"
    }
   ],
   "source": [
    "test = [4, 80, 70, 23, 9, 60, 68, 27, 66, 78, 12, 40, 52, 53, 44, 8, 49, 28, 18, 46, 21, 39, 51, 7, 87, 99, 69, 62, 84, 6, 79, 67, 14, 98, 83, 0, 96, 5, 82, 10, 26, 48, 3, 2, 15, 92, 11, 55, 63, 97, 43, 45, 81, 42, 95, 20, 25, 74, 24, 72, 91, 35, 86, 19, 75, 58, 71, 47, 76, 59, 64, 93, 17, 50, 56, 94, 90, 89, 32, 37, 34, 65, 1, 73, 41, 36, 57, 77, 30, 22, 13, 29, 38, 16, 88, 61, 31, 85, 33, 54  ]\n",
    "len(test)"
   ]
  },
  {
   "cell_type": "code",
   "execution_count": 80,
   "metadata": {},
   "outputs": [],
   "source": [
    "# use an algorithm that combines merge sort to first divide and conq with merge sort and at same time\n",
    "# counting the inversed number, (by when once added the from the right, you should add in number of elements left \n",
    "# from a sorted list on the left)"
   ]
  },
  {
   "cell_type": "code",
   "execution_count": 110,
   "metadata": {},
   "outputs": [],
   "source": [
    "def merge_sort_inv(a,b):\n",
    "    result = 0\n",
    "    combine = []\n",
    "    i = j = 0\n",
    "    while i<len(a) and j<len(b):\n",
    "        if a[i]<=b[j]:\n",
    "            combine.append(a[i])\n",
    "            i+=1\n",
    "        else:\n",
    "            combine.append(b[j])\n",
    "            j+=1\n",
    "            result += len(a)-i  # very important as not ++1 but += how many left in a, as for both are sorted array!\n",
    "    if i==len(a):\n",
    "        combine.extend(b[j:])\n",
    "    else:\n",
    "        combine.extend(a[i:])\n",
    "    return combine, result \n",
    "\n",
    "def sort_inverse(l,n):\n",
    "    if n==1:\n",
    "        return l,0\n",
    "    else:        \n",
    "        middle = n//2\n",
    "        left_len = middle\n",
    "        right_len = n-middle\n",
    "        left, left_inv = sort_inverse(l[:middle],left_len)\n",
    "        right, right_inv = sort_inverse(l[middle:],right_len)\n",
    "        combine, split_inv = merge_sort_inv(left,right)      # combined list is very important, as to give a returned result for the combined array\n",
    "\n",
    "        return combine, left_inv + right_inv + split_inv\n",
    "    \n",
    "    \n",
    "### introducing merge_sort with this solution to help!   \n",
    "    "
   ]
  },
  {
   "cell_type": "code",
   "execution_count": 111,
   "metadata": {},
   "outputs": [
    {
     "name": "stdout",
     "output_type": "stream",
     "text": [
      "2407905288\n",
      "CPU times: user 776 ms, sys: 7.97 ms, total: 784 ms\n",
      "Wall time: 782 ms\n"
     ]
    }
   ],
   "source": [
    "%%time\n",
    "sorted_number, inv = sort_inverse(all_numbers,len(all_numbers))\n",
    "print(inv)"
   ]
  },
  {
   "cell_type": "code",
   "execution_count": 94,
   "metadata": {},
   "outputs": [
    {
     "name": "stdout",
     "output_type": "stream",
     "text": [
      "2372\n",
      "[0, 1, 2, 3, 4, 5, 6, 7, 8, 9, 10, 11, 12, 13, 14, 15, 16, 17, 18, 19, 20, 21, 22, 23, 24, 25, 26, 27, 28, 29, 30, 31, 32, 33, 34, 35, 36, 37, 38, 39, 40, 41, 42, 43, 44, 45, 46, 47, 48, 49, 50, 51, 52, 53, 54, 55, 56, 57, 58, 59, 60, 61, 62, 63, 64, 65, 66, 67, 68, 69, 70, 71, 72, 73, 74, 75, 76, 77, 78, 79, 80, 81, 82, 83, 84, 85, 86, 87, 88, 89, 90, 91, 92, 93, 94, 95, 96, 97, 98, 99]\n",
      "CPU times: user 2.7 ms, sys: 3 µs, total: 2.7 ms\n",
      "Wall time: 2.64 ms\n"
     ]
    }
   ],
   "source": [
    "%%time\n",
    "sorted_number, inv = sort_inverse(test,len(test))\n",
    "print(inv)\n",
    "print(sorted_number)"
   ]
  },
  {
   "cell_type": "code",
   "execution_count": 95,
   "metadata": {},
   "outputs": [],
   "source": [
    "  \n",
    "with open('IntegerArray.txt') as f:\n",
    "    a = [int(x) for x in f]\n",
    "\n",
    "def CountSplitInv(B,C):\n",
    "    i = 0\n",
    "    j = 0\n",
    "    count = 0\n",
    "    D = []\n",
    "    while i<len(B) and j<len(C):\n",
    "        D.extend([min(B[i],C[j])])\n",
    "        if B[i] < C[j]:\n",
    "            i = i + 1\n",
    "        else:\n",
    "            count +=len(B[i:])\n",
    "            j+=1\n",
    "    D.extend(B[i:])\n",
    "    D.extend(C[j:])\n",
    "    Z = count\n",
    "    return D,Z\n",
    "\n",
    "def Sort_Count(A):\n",
    "    n = len(A)\n",
    "    if n > 1:\n",
    "        splitposition = n // 2\n",
    "        B,X = Sort_Count(A[:splitposition])\n",
    "        C,Y = Sort_Count(A[splitposition:])\n",
    "        D,Z = CountSplitInv(B,C)\n",
    "        return D,X+Y+Z\n",
    "    else:\n",
    "        return A,0\n",
    "\n"
   ]
  },
  {
   "cell_type": "code",
   "execution_count": 30,
   "metadata": {},
   "outputs": [
    {
     "name": "stdout",
     "output_type": "stream",
     "text": [
      "CPU times: user 24.5 s, sys: 8 µs, total: 24.5 s\n",
      "Wall time: 24.5 s\n"
     ]
    }
   ],
   "source": [
    "%%time\n",
    "sorted_num,num = Sort_Count(numbers)"
   ]
  },
  {
   "cell_type": "code",
   "execution_count": 31,
   "metadata": {},
   "outputs": [
    {
     "name": "stdout",
     "output_type": "stream",
     "text": [
      "2407851245\n"
     ]
    }
   ],
   "source": [
    "print(num)"
   ]
  },
  {
   "cell_type": "code",
   "execution_count": null,
   "metadata": {},
   "outputs": [],
   "source": []
  },
  {
   "cell_type": "code",
   "execution_count": 85,
   "metadata": {},
   "outputs": [
    {
     "name": "stdout",
     "output_type": "stream",
     "text": [
      "[5, 4, 3, 2, 1, 0]\n",
      "15\n"
     ]
    }
   ],
   "source": [
    "def count_inversions(L):\n",
    "\n",
    "    inversion_counter = 0\n",
    "\n",
    "    def count(L):\n",
    "        if len(L) <= 1:\n",
    "            return L\n",
    "        else:\n",
    "            n = len(L)\n",
    "            mid = n//2\n",
    "            left = count(L[:mid])\n",
    "            right = count(L[mid:])\n",
    "\n",
    "            i, j = 0, 0\n",
    "\n",
    "            nonlocal inversion_counter\n",
    "\n",
    "            for k in range(n):\n",
    "                if left[i] <= right[j]:\n",
    "                    L[k] = left[i]\n",
    "                    i += 1\n",
    "                    if i == len(left):\n",
    "                        L[k+1:] = right[j:]  # NOTE we have to use k+1\n",
    "                        return L\n",
    "                else:\n",
    "                    L[k] = right[j]\n",
    "                    j += 1\n",
    "\n",
    "                    inversion_counter += len(left) - i\n",
    "\n",
    "                    if j == len(right):\n",
    "                        L[k+1:] = left[i:]\n",
    "                        return L\n",
    "\n",
    "    count(L)\n",
    "\n",
    "    return inversion_counter\n",
    "\n",
    "\n",
    "# L = list(reversed(range(6)))\n",
    "# print(L)\n",
    "# print(count_inversions(L))"
   ]
  },
  {
   "cell_type": "code",
   "execution_count": 87,
   "metadata": {},
   "outputs": [
    {
     "data": {
      "text/plain": [
       "2407851245"
      ]
     },
     "execution_count": 87,
     "metadata": {},
     "output_type": "execute_result"
    }
   ],
   "source": [
    "count_inversions(numbers)"
   ]
  },
  {
   "cell_type": "code",
   "execution_count": 88,
   "metadata": {},
   "outputs": [],
   "source": [
    "def mergeSort(a,b):\n",
    "\n",
    "    c = []\n",
    "    inversion = 0\n",
    "    left1 = 0\n",
    "    right1 = 0\n",
    "    while left1 < len(a) and right1 < len(b):\n",
    "        if a[left1] < b[right1]:\n",
    "            c.append(a[left1])\n",
    "            left1 = left1 + 1\n",
    "        else:\n",
    "            c.append(b[right1])\n",
    "            inversion = inversion + len(a[left1:])\n",
    "            right1 = right1 + 1\n",
    "\n",
    "    if left1 >= len(a):\n",
    "        c = c + b[right1:]\n",
    "    else:\n",
    "        c = c + a[left1:]\n",
    "\n",
    "    return c, inversion\n",
    "\n",
    "\n",
    "def merge(values):\n",
    "    if len(values) == 1:\n",
    "        return values, 0\n",
    "    mid = len(values) // 2;\n",
    "    (left, inv1) = merge(values[0:mid])\n",
    "    (right, inv2) = merge(values[mid:])\n",
    "    (total, inv3) = mergeSort(left, right)\n",
    "\n",
    "    return total,inv1+inv2+inv3"
   ]
  },
  {
   "cell_type": "code",
   "execution_count": 89,
   "metadata": {},
   "outputs": [],
   "source": [
    "a,b = merge(numbers)"
   ]
  },
  {
   "cell_type": "code",
   "execution_count": 91,
   "metadata": {},
   "outputs": [
    {
     "name": "stdout",
     "output_type": "stream",
     "text": [
      "0\n"
     ]
    }
   ],
   "source": [
    "# print(a)\n",
    "print(b)"
   ]
  },
  {
   "cell_type": "code",
   "execution_count": null,
   "metadata": {},
   "outputs": [],
   "source": []
  }
 ],
 "metadata": {
  "kernelspec": {
   "display_name": "Python 3",
   "language": "python",
   "name": "python3"
  },
  "language_info": {
   "codemirror_mode": {
    "name": "ipython",
    "version": 3
   },
   "file_extension": ".py",
   "mimetype": "text/x-python",
   "name": "python",
   "nbconvert_exporter": "python",
   "pygments_lexer": "ipython3",
   "version": "3.7.4"
  }
 },
 "nbformat": 4,
 "nbformat_minor": 4
}
